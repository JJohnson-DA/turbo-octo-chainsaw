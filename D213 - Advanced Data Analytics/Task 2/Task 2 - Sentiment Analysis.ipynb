{
 "cells": [
  {
   "cell_type": "markdown",
   "metadata": {},
   "source": [
    "# Sentiment Analysis Using Tensorflow\n",
    "- Use Keras within Tensorflow to create a Recurrent Neural Network that can be used for Sentiment Classification\n",
    "\n",
    "#### Data Sources\n",
    "- Amazon reviews: reviews taken from amazon.com and prepared by the UCI Machine Learning Repository\n",
    "- IMDB reviews: reviews taken from imdb.com and prepared by the UCI Machine Learning Repository\n",
    "- Yelp reviews: reviews taken from yelp.com and prepared by the UCI Machine Learning Repository\n",
    "- URL for above resources: https://archive.ics.uci.edu/ml/datasets/Sentiment+Labelled+Sentences\n",
    "\n",
    "#### Package/Module Imports"
   ]
  },
  {
   "cell_type": "code",
   "execution_count": 1,
   "metadata": {},
   "outputs": [],
   "source": [
    "# Data Manipulation\n",
    "import pandas as pd\n",
    "import numpy as np \n",
    "\n",
    "# Model building and data preperation\n",
    "import tensorflow as tf \n",
    "from tensorflow import keras\n",
    "from keras.models import Sequential\n",
    "from keras.layers import Dense, Embedding, LSTM, Dropout\n",
    "from keras.callbacks import EarlyStopping\n",
    "from keras.preprocessing.text import Tokenizer\n",
    "from keras.preprocessing.sequence import pad_sequences\n",
    "from tensorflow.keras import regularizers\n",
    "from sklearn.model_selection import train_test_split\n",
    "from nltk.tokenize import word_tokenize\n",
    "\n",
    "# Visualizations\n",
    "import matplotlib.pyplot as plt"
   ]
  },
  {
   "cell_type": "markdown",
   "metadata": {},
   "source": [
    "## Part I:  Research Question\n",
    "\n",
    "A.  Describe the purpose of this data analysis:\n",
    "\n",
    "The purpose of this analysis to to train a Recurrent Neural Network with the goal of accurately classifying text sentiments as positive or negative. This model will be used to help organizations answer questions about whether or not a product or service is receiving positive or negative remarks without needing to read every single review. This analysis will use a combination of reviews from Amazon, IMDB, and Yelp in an effort to create a robust model that can be applied outside of one type of product review. "
   ]
  },
  {
   "cell_type": "markdown",
   "metadata": {},
   "source": [
    "## Part II:  Data Preparation"
   ]
  },
  {
   "cell_type": "code",
   "execution_count": 2,
   "metadata": {},
   "outputs": [
    {
     "name": "stdout",
     "output_type": "stream",
     "text": [
      "df shape  (2748, 2) \n",
      "\n",
      "Label Counts\n",
      " 1    1386\n",
      "0    1362\n",
      "Name: label, dtype: int64\n"
     ]
    }
   ],
   "source": [
    "# Load individual datasets\n",
    "amazon = pd.read_csv('amazon_cells_labelled.txt', sep='\\t', header=None, encoding='UTF-8')\n",
    "imdb = pd.read_csv('imdb_labelled.txt', sep='\\t', header=None, encoding='UTF-8')\n",
    "yelp = pd.read_csv('yelp_labelled.txt', sep='\\t', header=None, encoding='UTF-8')\n",
    "\n",
    "# Concatenate datasets into single dataframe\n",
    "df = pd.concat([amazon, imdb, yelp])\n",
    "df.columns = ['text', 'label']\n",
    "df.reset_index(drop=True, inplace=True)\n",
    "\n",
    "# Inspect Dataset\n",
    "print('df shape ',df.shape,'\\n')\n",
    "print('Label Counts\\n',df.label.value_counts())"
   ]
  },
  {
   "cell_type": "markdown",
   "metadata": {},
   "source": [
    "#### 1.  Perform exploratory data analysis on the chosen dataset, and include an explanation of each of the following elements:\n",
    "To explore the text within the data set, a series of for-loops were used to tokenize the words in each sample and then add them to a set of unique words. A list of the sentences was also created to later be used in determining sequence length for the embedding layer of the neural network. \n",
    "\n",
    "The list of unique words consists of 4970 words. This list is of the alphabetical english words. The tokens that did not fit within these guidlines were added to the other_char set and consists of 384 tokens. This is mainly punctuation, digits, or words that have special characters misplaced or are spelled innaccurately.\n",
    "\n",
    "For the neural network a word embedding length of 4500 will be used. Due to the small sample size and relatively low count of tokens this should not pose extra strain on the computation load. The list of sentences was used to create a boxplot showing the distribution of sentence lengths. There were some extreme outliers on the upper range. The boxplot showed the majority of the sentence lengths were less than 50 words. A second histogram was plotted with the maximum bin capping off at 50 words. The describe function was also used for a numerical representation of the range only using lengths that were less than 50 words. Using the histogram it was chosen to use a max sequence length of 34 words. This length is 3 standard deviations above the mean for the subset of lengths less than 50 words. This length allows for 98.5% of the sequences to be represented in full. "
   ]
  },
  {
   "cell_type": "code",
   "execution_count": 3,
   "metadata": {},
   "outputs": [
    {
     "name": "stdout",
     "output_type": "stream",
     "text": [
      "Vocab Size: 4970\n",
      "Excluded Tokens: 384\n"
     ]
    }
   ],
   "source": [
    "# Create lists to store words and sentences\n",
    "vocab = list()\n",
    "sentences = list()\n",
    "all_tokens = list()\n",
    "\n",
    "# Loop through reviews to extract sentences and words\n",
    "for sentence in df.text.values:\n",
    "    # Tokenize in lowercase\n",
    "    lower_tokens = [w for w in word_tokenize(sentence.lower())]\n",
    "    # Add tokens to other_char\n",
    "    for l in lower_tokens:\n",
    "        all_tokens.append(l)\n",
    "    # Retain only alphabetic words, remove punctuation\n",
    "    alpha_only = [t for t in lower_tokens if t.isalpha()]\n",
    "    # append to list of sentences\n",
    "    sentences.append(alpha_only)\n",
    "    # add words from sentence to vocab list\n",
    "    for a in alpha_only:\n",
    "        vocab.append(a)\n",
    "\n",
    "# create set of unique values from vocab list and other_char\n",
    "vocab = set(vocab)\n",
    "other_char = set(all_tokens) - vocab\n",
    "\n",
    "print('Vocab Size: %s'%len(vocab))\n",
    "print('Excluded Tokens: %s'%len(other_char))"
   ]
  },
  {
   "cell_type": "code",
   "execution_count": 4,
   "metadata": {},
   "outputs": [],
   "source": [
    "# Create list to store number of words in each sentence\n",
    "sent_length = list()\n",
    "\n",
    "# Loop through sentences and append length in words to sent_length\n",
    "for s in sentences:\n",
    "    sent_length.append(len(s))\n",
    "\n",
    "# Convert to dataframe\n",
    "sent_length = pd.DataFrame(sent_length)"
   ]
  },
  {
   "cell_type": "code",
   "execution_count": 5,
   "metadata": {},
   "outputs": [
    {
     "data": {
      "image/png": "[encoded data removed]",
      "text/plain": [
       "<Figure size 432x288 with 1 Axes>"
      ]
     },
     "metadata": {
      "needs_background": "light"
     },
     "output_type": "display_data"
    }
   ],
   "source": [
    "# Assess Distibution of Sentence Lengths\n",
    "plt.boxplot(sent_length)\n",
    "plt.title('Sentence Length Distribution')\n",
    "plt.show()"
   ]
  },
  {
   "cell_type": "code",
   "execution_count": 6,
   "metadata": {},
   "outputs": [
    {
     "data": {
      "image/png": "[encoded data removed]",
      "text/plain": [
       "<Figure size 720x360 with 1 Axes>"
      ]
     },
     "metadata": {
      "needs_background": "light"
     },
     "output_type": "display_data"
    }
   ],
   "source": [
    "# plot histogram of sentence lengths under 50 words\n",
    "bins = np.arange(0,50,1)\n",
    "plt.figure(figsize=(10, 5))\n",
    "plt.hist(sent_length, bins=bins)\n",
    "plt.title('Distribution of Sentence Lengths Under 50 words')\n",
    "plt.show()"
   ]
  },
  {
   "cell_type": "code",
   "execution_count": 7,
   "metadata": {},
   "outputs": [
    {
     "data": {
      "text/html": [
       "<div>\n",
       "<style scoped>\n",
       "    .dataframe tbody tr th:only-of-type {\n",
       "        vertical-align: middle;\n",
       "    }\n",
       "\n",
       "    .dataframe tbody tr th {\n",
       "        vertical-align: top;\n",
       "    }\n",
       "\n",
       "    .dataframe thead th {\n",
       "        text-align: right;\n",
       "    }\n",
       "</style>\n",
       "<table border=\"1\" class=\"dataframe\">\n",
       "  <thead>\n",
       "    <tr style=\"text-align: right;\">\n",
       "      <th></th>\n",
       "      <th>0</th>\n",
       "    </tr>\n",
       "  </thead>\n",
       "  <tbody>\n",
       "    <tr>\n",
       "      <th>count</th>\n",
       "      <td>2737.000000</td>\n",
       "    </tr>\n",
       "    <tr>\n",
       "      <th>mean</th>\n",
       "      <td>11.449032</td>\n",
       "    </tr>\n",
       "    <tr>\n",
       "      <th>std</th>\n",
       "      <td>7.352923</td>\n",
       "    </tr>\n",
       "    <tr>\n",
       "      <th>min</th>\n",
       "      <td>0.000000</td>\n",
       "    </tr>\n",
       "    <tr>\n",
       "      <th>25%</th>\n",
       "      <td>6.000000</td>\n",
       "    </tr>\n",
       "    <tr>\n",
       "      <th>50%</th>\n",
       "      <td>10.000000</td>\n",
       "    </tr>\n",
       "    <tr>\n",
       "      <th>75%</th>\n",
       "      <td>16.000000</td>\n",
       "    </tr>\n",
       "    <tr>\n",
       "      <th>max</th>\n",
       "      <td>47.000000</td>\n",
       "    </tr>\n",
       "  </tbody>\n",
       "</table>\n",
       "</div>"
      ],
      "text/plain": [
       "                 0\n",
       "count  2737.000000\n",
       "mean     11.449032\n",
       "std       7.352923\n",
       "min       0.000000\n",
       "25%       6.000000\n",
       "50%      10.000000\n",
       "75%      16.000000\n",
       "max      47.000000"
      ]
     },
     "execution_count": 7,
     "metadata": {},
     "output_type": "execute_result"
    }
   ],
   "source": [
    "# Display distribution stats for subset of length less than 50\n",
    "sent_length[sent_length<50].describe()"
   ]
  },
  {
   "cell_type": "code",
   "execution_count": 8,
   "metadata": {},
   "outputs": [
    {
     "data": {
      "text/plain": [
       "33.5"
      ]
     },
     "execution_count": 8,
     "metadata": {},
     "output_type": "execute_result"
    }
   ],
   "source": [
    "# Calculate the length that is 3 standard deviations above the mean length for the subset\n",
    "11.45 + (7.35*3)"
   ]
  },
  {
   "cell_type": "code",
   "execution_count": 9,
   "metadata": {},
   "outputs": [
    {
     "name": "stdout",
     "output_type": "stream",
     "text": [
      "Percent of Full Sequences Captured: 0.985\n"
     ]
    }
   ],
   "source": [
    "perc_full = sent_length[sent_length<34].count() / sent_length.count()\n",
    "print('Percent of Full Sequences Captured: %.3f'%perc_full)"
   ]
  },
  {
   "cell_type": "markdown",
   "metadata": {},
   "source": [
    "#### 2.  Describe the goals of the tokenization process, including any code generated and packages that are used to normalize text during the tokenization process.\n",
    "The goal of the tokenization process is to convert the sequence of words into a numeric representation so that it is able to be used in a machine learning model. Here, the Tokenizer() API from Keras was used to transform the words into integers representing their index in the vocabulary dictionary created by the Tokenizer. "
   ]
  },
  {
   "attachments": {
    "c2716155-8d2f-4df0-a22e-3b25788dab28.png": {
     "image/png": "[encoded data removed]"
    }
   },
   "cell_type": "markdown",
   "metadata": {},
   "source": [
    "#### 3.  Explain the padding process used to standardize the length of sequences, including the following in your explanation:\n",
    "The data being fed into the machine learning model must have the same dimensions. Because not all sequences are the same length of words, we must determine a fixed sequence length to use. Using that length, we either cut off sequences that exceed this length, or pad sequences that are shorter. The end result is a list of sequences that contain the same number of values. Below is a sample taken from a padded sequence below. You can see that we have padded with leading zeros before the sequence if the sequence was shorter than the determined length of 34 values.\n",
    "\n",
    "![image.png](attachment:c2716155-8d2f-4df0-a22e-3b25788dab28.png)"
   ]
  },
  {
   "cell_type": "code",
   "execution_count": 10,
   "metadata": {},
   "outputs": [],
   "source": [
    "# Split data into training and testing\n",
    "X = df['text']\n",
    "y = df['label']\n",
    "SEED = 830\n",
    "\n",
    "X_train, X_test, y_train, y_test = train_test_split(X, y, test_size=0.20, random_state=SEED)"
   ]
  },
  {
   "cell_type": "code",
   "execution_count": 11,
   "metadata": {},
   "outputs": [
    {
     "name": "stdout",
     "output_type": "stream",
     "text": [
      "Train shape: (2198, 34)\n",
      "Test shape: (550, 34)\n"
     ]
    }
   ],
   "source": [
    "# Tokenize training set using Tokenizer from Keras\n",
    "vocab_size = 4500\n",
    "tokenizer = Tokenizer(num_words=vocab_size)\n",
    "\n",
    "# Fit tokenizer on training data\n",
    "tokenizer.fit_on_texts(X_train.values)\n",
    "\n",
    "# Create padded sequence of train data using tokenizer\n",
    "X_train_token = tokenizer.texts_to_sequences(X_train)\n",
    "X_train_padded = pad_sequences(X_train_token, maxlen=34)\n",
    "\n",
    "# Create padded sequence of test data using tokenizer\n",
    "X_test_token = tokenizer.texts_to_sequences(X_test)\n",
    "X_test_padded = pad_sequences(X_test_token, maxlen=34)\n",
    "\n",
    "print('Train shape: {}'.format(X_train_padded.shape))\n",
    "print('Test shape: {}'.format(X_test_padded.shape))"
   ]
  },
  {
   "cell_type": "code",
   "execution_count": 12,
   "metadata": {},
   "outputs": [
    {
     "data": {
      "text/plain": [
       "array([   0,    0,    0,    0,    0,    0,    0,    0,    0,    0,    0,\n",
       "          0,    0,    8,   10,   19, 1281,   66,    3,   10,   11,    1,\n",
       "        445,    4,   17,  503,    2,   19,   17, 1987,    2, 1282,    9,\n",
       "       1988])"
      ]
     },
     "execution_count": 12,
     "metadata": {},
     "output_type": "execute_result"
    }
   ],
   "source": [
    "X_train_padded[5]"
   ]
  },
  {
   "cell_type": "markdown",
   "metadata": {},
   "source": [
    "#### 4.  Identify how many categories of sentiment will be used and an activation function for the final dense layer of the network.\n",
    "This model will have two categories of sentiment classification. The acivation function in the final layer of the neural network will be sigmoid to predict the probability of belonging to Class 1 (positive sentiment) in the final node.\n",
    "\n",
    "#### 5.  Explain the steps used to prepare the data for analysis, including the size of the training, validation, and test set split.\n",
    "First, the data was separated into X and y sets. Second, the X and y sets were split into training and testing sets with 20% being set aside for testing. Validation data was not split off but 15% of the training data will be used in the training of the model using the 'validation_split' parameter when fitting the model. Next, a tokenizer was instantiated and fit on the X training data. This tokenizer was used to create feature vectors on the training and testing data. Finally, these sets were then padded with leading zeros and cut off with a maximum length of 34 values.\n",
    "\n",
    "#### 6.  Provide a copy of the prepared dataset."
   ]
  },
  {
   "cell_type": "code",
   "execution_count": 13,
   "metadata": {},
   "outputs": [],
   "source": [
    "# Export training, validation and testing data to csv files\n",
    "pd.DataFrame(X_train_padded).to_csv('X_train.csv', index=False)\n",
    "pd.DataFrame(X_test_padded).to_csv('X_test.csv', index=False)\n",
    "pd.DataFrame(y_train).to_csv('y_train.csv', index=False)\n",
    "pd.DataFrame(y_test).to_csv('y_test.csv', index=False)"
   ]
  },
  {
   "cell_type": "markdown",
   "metadata": {},
   "source": [
    "## Part III:  Network Architecture\n",
    "A summary of the model architecture is provided below after fitting the model. \n",
    "\n",
    "The network was constructed with three layers: Embedding, LSTM, and Dense. The total parameters and trainable parameteres was 230,701. The embedding layer takes the inputs and creates dense vectors to be fed to the rest of the model. The LSTM layer is used to link the different sequences to the labels to determine what weights to use at each node. The LSTM layer has a regulation aspect to it by using \"gates\" within to ensure the gradients in each node do not \"explode\" or \"vanish.\" This layer had the parameters \"dropout\" and \"recurrent_dropout\" set to 0.25 in an effort to avoid over fitting in the model. The final layer is a Dense layer with one output node and a sigmoid activation function. \n",
    "\n",
    "The model was compiled with an Adam optimizer as this is a very robust choice and is widely used and accepted. It also performed much better than models tested with SGD and RMSProp optimizers. Accuracy was used for the evaluation metric as we wanted to see how accuractely the model could classify each sentiment with its correct label. The binary_crossentropy loss function was used since this is a binary classification problem. An early stopping parameter was used to stop the model from fitting if the validation accuracy was not improving. "
   ]
  },
  {
   "cell_type": "code",
   "execution_count": 14,
   "metadata": {},
   "outputs": [],
   "source": [
    "# Load data into training and testing variables\n",
    "X_train = pd.read_csv('X_train.csv')\n",
    "X_test = pd.read_csv('X_test.csv')\n",
    "y_train = pd.read_csv('y_train.csv')\n",
    "y_test = pd.read_csv('y_test.csv')"
   ]
  },
  {
   "cell_type": "code",
   "execution_count": 15,
   "metadata": {},
   "outputs": [
    {
     "name": "stdout",
     "output_type": "stream",
     "text": [
      "Epoch 1/50\n",
      "59/59 [==============================] - 2s 37ms/step - loss: 0.6882 - accuracy: 0.6071 - val_loss: 0.6775 - val_accuracy: 0.6576\n",
      "Epoch 2/50\n",
      "59/59 [==============================] - 2s 29ms/step - loss: 0.5945 - accuracy: 0.7661 - val_loss: 0.5532 - val_accuracy: 0.7242\n",
      "Epoch 3/50\n",
      "59/59 [==============================] - 2s 29ms/step - loss: 0.3534 - accuracy: 0.8688 - val_loss: 0.5058 - val_accuracy: 0.7545\n",
      "Epoch 4/50\n",
      "59/59 [==============================] - 2s 29ms/step - loss: 0.1968 - accuracy: 0.9481 - val_loss: 0.4920 - val_accuracy: 0.7970\n",
      "Epoch 5/50\n",
      "59/59 [==============================] - 2s 30ms/step - loss: 0.1181 - accuracy: 0.9706 - val_loss: 0.5133 - val_accuracy: 0.7970\n",
      "Epoch 6/50\n",
      "59/59 [==============================] - 2s 30ms/step - loss: 0.0804 - accuracy: 0.9802 - val_loss: 0.5586 - val_accuracy: 0.7727\n"
     ]
    }
   ],
   "source": [
    "# Instantiate the Neural Network Model\n",
    "model = Sequential()\n",
    "\n",
    "# Add layers to model\n",
    "model.add(Embedding(input_dim=vocab_size, # Vocab size is defined above during tokenization\n",
    "                    output_dim=50, \n",
    "                    trainable=True, \n",
    "                    input_length=34)) \n",
    "model.add(LSTM(20, dropout=0.25, recurrent_dropout=0.25))\n",
    "model.add(Dense(1, activation='sigmoid'))\n",
    "\n",
    "# Compile the Model\n",
    "model.compile(optimizer='adam', loss='binary_crossentropy', metrics=['accuracy'])\n",
    "\n",
    "# Define early_stopping_monitor\n",
    "early_stopping_monitor = EarlyStopping(patience=2)\n",
    "\n",
    "# Fit the model on the training data, using 15% of it as validation. \n",
    "history = model.fit(X_train, y_train, \n",
    "                    validation_split=0.15, epochs=50,\n",
    "                    callbacks=[early_stopping_monitor])"
   ]
  },
  {
   "cell_type": "code",
   "execution_count": 16,
   "metadata": {},
   "outputs": [
    {
     "name": "stdout",
     "output_type": "stream",
     "text": [
      "Model: \"sequential\"\n",
      "_________________________________________________________________\n",
      "Layer (type)                 Output Shape              Param #   \n",
      "=================================================================\n",
      "embedding (Embedding)        (None, 34, 50)            225000    \n",
      "_________________________________________________________________\n",
      "lstm (LSTM)                  (None, 20)                5680      \n",
      "_________________________________________________________________\n",
      "dense (Dense)                (None, 1)                 21        \n",
      "=================================================================\n",
      "Total params: 230,701\n",
      "Trainable params: 230,701\n",
      "Non-trainable params: 0\n",
      "_________________________________________________________________\n"
     ]
    }
   ],
   "source": [
    "# Display Model Architecture\n",
    "model.summary()"
   ]
  },
  {
   "attachments": {
    "14f5d911-e1e8-4ca1-a6ad-372bb75fa08e.png": {
     "image/png": "[encoded data removed]"
    }
   },
   "cell_type": "markdown",
   "metadata": {},
   "source": [
    "## Part IV:  Model Evaluation\n",
    "\n",
    "#### 1.  Discuss the impact of using stopping criteria instead of defining the number of epochs, including a screenshot showing the final training epoch.\n",
    "By specifying an early stopping criteria and a high number of epochs it allows the program to determine the cut off point for the best model. In this case, the model's validation loss stopped improving after 3 epochs and since the patience was set to 2, the program stopped fitting the model after the fifth epoch and saved the results of the third epoch in the model. \n",
    "\n",
    "![image.png](attachment:14f5d911-e1e8-4ca1-a6ad-372bb75fa08e.png)\n",
    "\n",
    "#### 2.  Provide visualizations of the model’s training process, including a line graph of the loss and chosen evaluation metric."
   ]
  },
  {
   "cell_type": "code",
   "execution_count": 17,
   "metadata": {},
   "outputs": [
    {
     "data": {
      "image/png": "[encoded data removed]",
      "text/plain": [
       "<Figure size 432x288 with 1 Axes>"
      ]
     },
     "metadata": {
      "needs_background": "light"
     },
     "output_type": "display_data"
    }
   ],
   "source": [
    "# Plot accuracy for training and Validation during model fitting\n",
    "plt.plot(history.history['accuracy'])\n",
    "plt.plot(history.history['val_accuracy'])\n",
    "plt.title('Model Training Accuracy')\n",
    "plt.ylabel('Accuracy')\n",
    "plt.xlabel('Epoch')\n",
    "plt.legend(['Train', 'Validation'], loc='upper left')\n",
    "plt.show()"
   ]
  },
  {
   "cell_type": "code",
   "execution_count": 18,
   "metadata": {
    "tags": []
   },
   "outputs": [
    {
     "data": {
      "image/png": "[encoded data removed]",
      "text/plain": [
       "<Figure size 432x288 with 1 Axes>"
      ]
     },
     "metadata": {
      "needs_background": "light"
     },
     "output_type": "display_data"
    }
   ],
   "source": [
    "# Plot Loss for training and Validation during model fitting\n",
    "plt.plot(history.history['loss'])\n",
    "plt.plot(history.history['val_loss'])\n",
    "plt.title('Model Training Loss')\n",
    "plt.ylabel('Loss')\n",
    "plt.xlabel('Epoch')\n",
    "plt.legend(['Train', 'Validation'], loc='upper left')\n",
    "plt.show()"
   ]
  },
  {
   "cell_type": "markdown",
   "metadata": {},
   "source": [
    "#### 3.  Assess the fitness of the model and any measures taken to address overfitting.\n",
    "Although the model achieved an accuracy of just under 80% before the validation loss function began rising again, the model still shows signs of over fitting. The training accuracy continued improving along with the training loss even though methods such as dropout were used. Kernal regularization was also attempted to avoid overfitting but it showed no improvement so the model was reverted back for simplicity sake. \n",
    "\n",
    "#### 4.  Discuss the predictive accuracy of the trained network.\n",
    "Shown below, the model was able to predict on the testing data with just over 82% accuracy. This is better than was able to be achieved in the training process on the validation data. "
   ]
  },
  {
   "cell_type": "code",
   "execution_count": 19,
   "metadata": {},
   "outputs": [
    {
     "name": "stdout",
     "output_type": "stream",
     "text": [
      "Model Testing Loss Function Value: 0.527\n",
      "Model Testing accuracy: 0.800\n"
     ]
    }
   ],
   "source": [
    "# Evaluate the accuracy of the model on the test data\n",
    "results = model.evaluate(X_test, y_test, verbose=0)\n",
    "print('Model Testing Loss Function Value: %.3f'%results[0])\n",
    "print('Model Testing accuracy: %.3f'%results[1])"
   ]
  },
  {
   "cell_type": "markdown",
   "metadata": {},
   "source": [
    "## Part V:  Summary and Recommendations\n",
    "Code to save the model is provided below.\n",
    "\n",
    "The model functions by taking a list of values representing words in a sequence and analyzing the sequence as a whole in the LSTM layer. The LSTM layer has gates built in to avoid vanishing or exploding gradients. Through the process of forward and backward propogation the weights are trained to find the optimal values to aid in the prediction of the clas of the sentiment. The outputs of the LSTM layer are finally fed to the Dense/Output layer to create a prediction which is the probability of the observation to be labeled as 1, or positive. If this probabilty is above 0.5 then it is classified as a one. The model was able to perform well although there is still room to grow from the 80% accuracy on the testing data.\n",
    "\n",
    "I recommend the company begins using this model to assess sentiment in customer reviews for various products and services. One limitation of the model was the inability to avoid overfitting in the training process. To combat this more data should be collected and used to train a more robust model that can generalize well to new data. "
   ]
  },
  {
   "cell_type": "code",
   "execution_count": 20,
   "metadata": {},
   "outputs": [
    {
     "name": "stdout",
     "output_type": "stream",
     "text": [
      "WARNING:tensorflow:From C:\\Users\\16084\\anaconda3\\envs\\Keras\\lib\\site-packages\\tensorflow\\python\\training\\tracking\\tracking.py:111: Model.state_updates (from tensorflow.python.keras.engine.training) is deprecated and will be removed in a future version.\n",
      "Instructions for updating:\n",
      "This property should not be used in TensorFlow 2.0, as updates are applied automatically.\n",
      "WARNING:tensorflow:From C:\\Users\\16084\\anaconda3\\envs\\Keras\\lib\\site-packages\\tensorflow\\python\\training\\tracking\\tracking.py:111: Layer.updates (from tensorflow.python.keras.engine.base_layer) is deprecated and will be removed in a future version.\n",
      "Instructions for updating:\n",
      "This property should not be used in TensorFlow 2.0, as updates are applied automatically.\n",
      "INFO:tensorflow:Assets written to: Sentiment_Analysis_RNN_5.15.2021\\assets\n"
     ]
    }
   ],
   "source": [
    "# Save the model\n",
    "model.save('Sentiment_Analysis_RNN_5.15.2021')"
   ]
  },
  {
   "cell_type": "code",
   "execution_count": null,
   "metadata": {},
   "outputs": [],
   "source": []
  }
 ],
 "metadata": {
  "kernelspec": {
   "display_name": "Python 3",
   "language": "python",
   "name": "python3"
  },
  "language_info": {
   "codemirror_mode": {
    "name": "ipython",
    "version": 3
   },
   "file_extension": ".py",
   "mimetype": "text/x-python",
   "name": "python",
   "nbconvert_exporter": "python",
   "pygments_lexer": "ipython3",
   "version": "3.8.8"
  }
 },
 "nbformat": 4,
 "nbformat_minor": 4
}
