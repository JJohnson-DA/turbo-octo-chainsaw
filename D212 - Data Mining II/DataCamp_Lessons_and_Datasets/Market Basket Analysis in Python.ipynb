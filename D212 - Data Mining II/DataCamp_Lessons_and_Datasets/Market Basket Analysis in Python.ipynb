{
 "cells": [
  {
   "cell_type": "markdown",
   "metadata": {},
   "source": [
    "# Ch. 1 Intro to Market Basket Analysis\n",
    "## What is Market Basket Analysis?\n",
    "- Identify products frequently purchased together\n",
    "- Construct useful recommendations based on these findings\n",
    "\n",
    "### Use Cases\n",
    "- Build Netflix-Style recommendation engine\n",
    "- improve product recommendations on an e-commerce store\n",
    "- cross-sell products in a retail setting\n",
    "- import inventory management\n",
    "- upsell products\n",
    "\n",
    "### market basket analysis\n",
    "- construct association rules\n",
    "- identify items frequently bought together\n",
    "\n",
    "### Association Rules\n",
    "- Association Rule\n",
    "    - contain antecedent and consequent\n",
    "    - {health} --> {cooking}\n",
    "- Multi-Antecedent Rule\n",
    "    - {humor, travel} --> {language}\n",
    "- Multi-Consequent Rule\n",
    "    - {biography} --> {history, language}\n",
    "    \n",
    "### Difficulty of selecting rules\n",
    "- set of all possible rules is large\n",
    "- most rules are not useful\n",
    "- must discard most rules\n",
    "\n",
    "### Generating the Rules\n",
    "- use programming tools to generate all possible permutations of the items that can be associated"
   ]
  },
  {
   "cell_type": "code",
   "execution_count": 1,
   "metadata": {},
   "outputs": [
    {
     "name": "stdout",
     "output_type": "stream",
     "text": [
      "[['History', 'Bookmark'], ['History', 'Bookmark'], ['Fiction', 'Bookmark'], ['Biography', 'Bookmark'], ['History', 'Bookmark']]\n"
     ]
    }
   ],
   "source": [
    "import pandas as pd\n",
    "\n",
    "# Load Transactions\n",
    "books = pd.read_csv('bookstore_transactions.csv')\n",
    "\n",
    "# Split transactions strings into lists\n",
    "transactions = books['Transaction'].apply(lambda t: t.split(','))\n",
    "\n",
    "# Convert Dataframe into a list of strings\n",
    "transactions = list(transactions)\n",
    "\n",
    "print(transactions[:5])"
   ]
  },
  {
   "cell_type": "markdown",
   "metadata": {},
   "source": [
    "#### Grocery transactions"
   ]
  },
  {
   "cell_type": "code",
   "execution_count": 2,
   "metadata": {},
   "outputs": [],
   "source": [
    "transactions = [['milk', 'bread', 'biscuit'], ['bread', 'milk', 'biscuit', 'cereal'], ['bread', 'tea'], ['jam', 'bread', 'milk'], ['tea', 'biscuit'], ['bread', 'tea'], ['tea', 'cereal'], ['bread', 'tea', 'biscuit'], ['jam', 'bread', 'tea'], ['bread', 'milk'], ['coffee', 'orange', 'biscuit', 'cereal'], ['coffee', 'orange', 'biscuit', 'cereal'], ['coffee', 'sugar'], ['bread', 'coffee', 'orange'], ['bread', 'sugar', 'biscuit'], ['coffee', 'sugar', 'cereal'], ['bread', 'sugar', 'biscuit'], ['bread', 'coffee', 'sugar'], ['bread', 'coffee', 'sugar'], ['tea', 'milk', 'coffee', 'cereal']]"
   ]
  },
  {
   "cell_type": "markdown",
   "metadata": {},
   "source": [
    "#### Generating a list of rules"
   ]
  },
  {
   "cell_type": "code",
   "execution_count": 3,
   "metadata": {},
   "outputs": [
    {
     "name": "stdout",
     "output_type": "stream",
     "text": [
      "Number of Rules:  72\n"
     ]
    }
   ],
   "source": [
    "# Import permutations from the itertools module\n",
    "from itertools import permutations\n",
    "\n",
    "# Define the set of groceries\n",
    "flattened = [i for t in transactions for i in t]\n",
    "groceries = list(set(flattened))\n",
    "\n",
    "# Generate all possible rules\n",
    "rules = list(permutations(groceries, 2))\n",
    "\n",
    "# Print the number of rules\n",
    "print('Number of Rules: ',len(rules))"
   ]
  },
  {
   "cell_type": "markdown",
   "metadata": {},
   "source": [
    "## Metrics and Pruning\n",
    "### Metrics\n",
    "- measure of performance for rules\n",
    "- {humor} --> {poetry} = 0.81\n",
    "\n",
    "### Pruning\n",
    "- Use of metrics to discard rules\n",
    "\n",
    "### The simplist metric\n",
    "- the <b>Support Metric</b> measures the share of transactions that contain an item set\n",
    "    - (number of transactions with items) / (number of transactions)"
   ]
  },
  {
   "cell_type": "code",
   "execution_count": 4,
   "metadata": {
    "scrolled": true
   },
   "outputs": [
    {
     "name": "stdout",
     "output_type": "stream",
     "text": [
      "    biscuit  bread  cereal  coffee    jam   milk  orange  sugar    tea\n",
      "0      True   True   False   False  False   True   False  False  False\n",
      "1      True   True    True   False  False   True   False  False  False\n",
      "2     False   True   False   False  False  False   False  False   True\n",
      "3     False   True   False   False   True   True   False  False  False\n",
      "4      True  False   False   False  False  False   False  False   True\n",
      "5     False   True   False   False  False  False   False  False   True\n",
      "6     False  False    True   False  False  False   False  False   True\n",
      "7      True   True   False   False  False  False   False  False   True\n",
      "8     False   True   False   False   True  False   False  False   True\n",
      "9     False   True   False   False  False   True   False  False  False\n",
      "10     True  False    True    True  False  False    True  False  False\n",
      "11     True  False    True    True  False  False    True  False  False\n",
      "12    False  False   False    True  False  False   False   True  False\n",
      "13    False   True   False    True  False  False    True  False  False\n",
      "14     True   True   False   False  False  False   False   True  False\n",
      "15    False  False    True    True  False  False   False   True  False\n",
      "16     True   True   False   False  False  False   False   True  False\n",
      "17    False   True   False    True  False  False   False   True  False\n",
      "18    False   True   False    True  False  False   False   True  False\n",
      "19    False  False    True    True  False   True   False  False   True\n"
     ]
    }
   ],
   "source": [
    "# Import the transaction encoder function from mlxtend\n",
    "from mlxtend.preprocessing import TransactionEncoder\n",
    "import pandas as pd\n",
    "\n",
    "# Instantiate transaction encoder and identify unique items\n",
    "encoder = TransactionEncoder().fit(transactions)\n",
    "\n",
    "# One-hot encode transactions\n",
    "onehot = encoder.transform(transactions)\n",
    "\n",
    "# Convert one-hot encoded data to DataFrame\n",
    "onehot = pd.DataFrame(onehot, columns = encoder.columns_)\n",
    "\n",
    "# Print the one-hot encoded transaction dataset\n",
    "print(onehot)"
   ]
  },
  {
   "cell_type": "markdown",
   "metadata": {},
   "source": [
    "#### Single item support values"
   ]
  },
  {
   "cell_type": "code",
   "execution_count": 5,
   "metadata": {},
   "outputs": [
    {
     "name": "stdout",
     "output_type": "stream",
     "text": [
      "biscuit    0.40\n",
      "bread      0.65\n",
      "cereal     0.30\n",
      "coffee     0.40\n",
      "jam        0.10\n",
      "milk       0.25\n",
      "orange     0.15\n",
      "sugar      0.30\n",
      "tea        0.35\n",
      "dtype: float64\n"
     ]
    }
   ],
   "source": [
    "# Compute the support\n",
    "support = onehot.mean()\n",
    "\n",
    "# Print the support\n",
    "print(support)"
   ]
  },
  {
   "cell_type": "markdown",
   "metadata": {},
   "source": [
    "#### Multi item support values"
   ]
  },
  {
   "cell_type": "code",
   "execution_count": 6,
   "metadata": {},
   "outputs": [
    {
     "name": "stdout",
     "output_type": "stream",
     "text": [
      "biscuit      0.40\n",
      "bread        0.65\n",
      "cereal       0.30\n",
      "coffee       0.40\n",
      "jam          0.10\n",
      "milk         0.25\n",
      "orange       0.15\n",
      "sugar        0.30\n",
      "tea          0.35\n",
      "jam+bread    0.10\n",
      "dtype: float64\n"
     ]
    }
   ],
   "source": [
    "# Add a jam+bread column to the DataFrame onehot\n",
    "import numpy as np\n",
    "onehot['jam+bread'] = np.logical_and(onehot['jam'], onehot['bread'])\n",
    "\n",
    "# Compute the support\n",
    "support = onehot.mean()\n",
    "\n",
    "# Print the support values\n",
    "print(support)"
   ]
  },
  {
   "cell_type": "markdown",
   "metadata": {},
   "source": [
    "# Ch. 2 Association Rules\n",
    "### The Confidence Metric\n",
    "- can improve over support with additional metrics\n",
    "- adding confidence provides a more complete picture\n",
    "- Support(X & Y) / Support(X)\n",
    "\n",
    "### The Lift Metric\n",
    "- another metric for evaluating the relationship between items\n",
    "- Support(X & Y) / (Support(X) * Support(Y))\n",
    "    - numerator: proportion of transactions that contain X & Y\n",
    "    - Denominator: proportion if X & Y were assigned randomly and independently\n",
    "- If lift is greater than 1, the items occur together more often than you might expect based on their individual support values"
   ]
  },
  {
   "cell_type": "markdown",
   "metadata": {},
   "source": [
    "#### Calculating Support"
   ]
  },
  {
   "cell_type": "code",
   "execution_count": 7,
   "metadata": {},
   "outputs": [
    {
     "name": "stdout",
     "output_type": "stream",
     "text": [
      "coffee and tea: 0.20\n",
      "sugar and tea: 0.00\n",
      "tea and coffee: 0.05\n"
     ]
    }
   ],
   "source": [
    "# Compute support for coffee and tea\n",
    "supportCS = np.logical_and(onehot['coffee'], onehot['sugar']).mean()\n",
    "\n",
    "# Compute support for sugar and tea\n",
    "supportST = np.logical_and(onehot['sugar'], onehot['tea']).mean()\n",
    "\n",
    "# Compute support for tea and coffee\n",
    "supportTC = np.logical_and(onehot['tea'], onehot['coffee']).mean()\n",
    "\n",
    "# Print support values\n",
    "print(\"coffee and tea: %.2f\" % supportCS)\n",
    "print(\"sugar and tea: %.2f\" % supportST)\n",
    "print(\"tea and coffee: %.2f\" % supportTC)"
   ]
  },
  {
   "cell_type": "markdown",
   "metadata": {},
   "source": [
    "#### Calculating Confidence"
   ]
  },
  {
   "cell_type": "code",
   "execution_count": 8,
   "metadata": {},
   "outputs": [
    {
     "name": "stdout",
     "output_type": "stream",
     "text": [
      "Coffee then tea: 0.12\n",
      "tea then coffee: 0.14\n"
     ]
    }
   ],
   "source": [
    "# Compute support for coffee and tea\n",
    "supportCT = np.logical_and(onehot['coffee'], onehot['tea']).mean()\n",
    "\n",
    "# Compute support for coffee\n",
    "supportC = onehot['coffee'].mean()\n",
    "\n",
    "# Compute support for tea\n",
    "supportT = onehot['tea'].mean()\n",
    "\n",
    "# Compute confidence for both rules\n",
    "confidenceCT = supportCT / supportC\n",
    "confidenceTC = supportCT / supportT\n",
    "\n",
    "# Print results\n",
    "print('Coffee then tea: {0:.2f}'.format(confidenceCT))\n",
    "print('tea then coffee: {0:.2f}'.format(confidenceTC))"
   ]
  },
  {
   "cell_type": "markdown",
   "metadata": {},
   "source": [
    "#### Calculating Lift"
   ]
  },
  {
   "cell_type": "code",
   "execution_count": 9,
   "metadata": {},
   "outputs": [
    {
     "name": "stdout",
     "output_type": "stream",
     "text": [
      "Lift: 0.36\n"
     ]
    }
   ],
   "source": [
    "# Compute support for coffee and tea\n",
    "supportCT = np.logical_and(onehot['coffee'], onehot['tea']).mean()\n",
    "\n",
    "# Compute support for Potter\n",
    "supportC = onehot['coffee'].mean()\n",
    "\n",
    "# Compute support for Twilight\n",
    "supportT = onehot['tea'].mean()\n",
    "\n",
    "# Compute lift\n",
    "lift = supportCT / (supportC * supportT)\n",
    "\n",
    "# Print lift\n",
    "print(\"Lift: %.2f\" % lift)"
   ]
  },
  {
   "cell_type": "markdown",
   "metadata": {},
   "source": [
    "## Leverage and Conviction\n",
    "Metrics tend to build on simpler ones\n",
    "### Leverage\n",
    "- builds on the metric support\n",
    "- Leverage = Support(XY) - (Support(X) * Support(Y))\n",
    "- Similar to lift, but easier to interpret\n",
    "- range of -1 to +1 makes it easy to identify low and high values (lift ranges from 0 to infinity)\n",
    "- positive value indicates a more than usual relationship\n",
    "\n",
    "### Conviction\n",
    "- built using support\n",
    "- more complicated and less intuitive that leverage\n",
    "- conviction(X --> Y) = (Support(X) * Support(Not Y)) / Support(X & Not Y)"
   ]
  },
  {
   "cell_type": "code",
   "execution_count": 10,
   "metadata": {},
   "outputs": [],
   "source": [
    "def conviction(antecedent, consequent):\n",
    "    # Compute support for antecedent AND consequent\n",
    "    supportAC = np.logical_and(antecedent, consequent).mean()\n",
    "\n",
    "    # Compute support for antecedent\n",
    "    supportA = antecedent.mean()\n",
    "\n",
    "    # Compute support for NOT consequent\n",
    "    supportnC = 1.0 - consequent.mean()\n",
    "\n",
    "    # Compute support for antecedent and NOT consequent\n",
    "    supportAnC = supportA - supportAC\n",
    "\n",
    "    # Return conviction\n",
    "    return supportA * supportnC / supportAnC"
   ]
  },
  {
   "cell_type": "code",
   "execution_count": 11,
   "metadata": {},
   "outputs": [
    {
     "data": {
      "text/plain": [
       "1.3999999999999997"
      ]
     },
     "execution_count": 11,
     "metadata": {},
     "output_type": "execute_result"
    }
   ],
   "source": [
    "conviction(onehot['coffee'], onehot['sugar'])"
   ]
  },
  {
   "cell_type": "markdown",
   "metadata": {},
   "source": [
    "## Association and Dissociation\n",
    "### Dissociation\n",
    "- Zhang's Metric\n",
    "    - Values between -1 an +1\n",
    "    - +1 indicates perfect association\n",
    "    - -1 indicates perfect dissociation\n",
    "- Comprehensive as it measures association and dissociation\n",
    "- Interpretable\n",
    "- Constructed using support\n",
    "- Numerator: (Confidence(A-->B) - Confidence( Not A-->B)\n",
    "- Denominator: Max[Confidence(A-->B),Confidence(Not A-->B)]"
   ]
  },
  {
   "cell_type": "code",
   "execution_count": 12,
   "metadata": {},
   "outputs": [],
   "source": [
    "def zhang(ant, con):\n",
    "    # Compute the support of Ant and Con\n",
    "    supportA = ant.mean()\n",
    "    supportC = con.mean()\n",
    "\n",
    "    # Compute the support of both items\n",
    "    supportAC = np.logical_and(ant, con).mean()\n",
    "\n",
    "    # Complete the expressions for the numerator and denominator\n",
    "    numerator = supportAC - supportA*supportC\n",
    "    denominator = max(supportAC*(1-supportA), supportA*(supportC-supportAC))\n",
    "\n",
    "    # Compute and print Zhang's metric\n",
    "    zhang = numerator / denominator\n",
    "    return(zhang)"
   ]
  },
  {
   "cell_type": "code",
   "execution_count": 13,
   "metadata": {},
   "outputs": [
    {
     "data": {
      "text/plain": [
       "-0.5357142857142857"
      ]
     },
     "execution_count": 13,
     "metadata": {},
     "output_type": "execute_result"
    }
   ],
   "source": [
    "zhang(onehot['tea'], onehot['milk'])"
   ]
  },
  {
   "cell_type": "markdown",
   "metadata": {},
   "source": [
    "## Advanced Rules\n",
    "Standard Procedure for market basket analysis\n",
    "- Generate a large set of rules\n",
    "- filter rules using metrics\n",
    "- apply intuition and common sense on remaining rules\n",
    "\n",
    "### Multi Metric Filtering\n",
    "Generally a data frame will be created with each rules and the different metrics to go along with that pairing or group. One by one apply filters using metric levels to weed out the lower power rules"
   ]
  },
  {
   "cell_type": "markdown",
   "metadata": {},
   "source": [
    "# Aggregation and Pruning\n",
    "## Aggregation\n",
    "- can be used to simply MBA problems that have many items"
   ]
  },
  {
   "cell_type": "code",
   "execution_count": 110,
   "metadata": {
    "scrolled": false
   },
   "outputs": [
    {
     "data": {
      "text/html": [
       "<div>\n",
       "<style scoped>\n",
       "    .dataframe tbody tr th:only-of-type {\n",
       "        vertical-align: middle;\n",
       "    }\n",
       "\n",
       "    .dataframe tbody tr th {\n",
       "        vertical-align: top;\n",
       "    }\n",
       "\n",
       "    .dataframe thead th {\n",
       "        text-align: right;\n",
       "    }\n",
       "</style>\n",
       "<table border=\"1\" class=\"dataframe\">\n",
       "  <thead>\n",
       "    <tr style=\"text-align: right;\">\n",
       "      <th></th>\n",
       "      <th>InvoiceNo</th>\n",
       "      <th>Description</th>\n",
       "    </tr>\n",
       "  </thead>\n",
       "  <tbody>\n",
       "    <tr>\n",
       "      <th>0</th>\n",
       "      <td>549687</td>\n",
       "      <td>DOORMAT RED RETROSPOT,DOORMAT WELCOME SUNRISE,...</td>\n",
       "    </tr>\n",
       "    <tr>\n",
       "      <th>1</th>\n",
       "      <td>550644</td>\n",
       "      <td>SET OF 6 SPICE TINS PANTRY DESIGN,PANTRY WASHI...</td>\n",
       "    </tr>\n",
       "    <tr>\n",
       "      <th>2</th>\n",
       "      <td>552695</td>\n",
       "      <td>BIRTHDAY PARTY CORDON BARRIER TAPE,ICE CREAM P...</td>\n",
       "    </tr>\n",
       "    <tr>\n",
       "      <th>3</th>\n",
       "      <td>553857</td>\n",
       "      <td>VINTAGE GLASS T-LIGHT HOLDER,SET/6 BEAD COASTE...</td>\n",
       "    </tr>\n",
       "    <tr>\n",
       "      <th>4</th>\n",
       "      <td>557499</td>\n",
       "      <td>PARTY CHARMS 50 PIECES,PACK OF 6 LARGE FRUIT S...</td>\n",
       "    </tr>\n",
       "  </tbody>\n",
       "</table>\n",
       "</div>"
      ],
      "text/plain": [
       "  InvoiceNo                                        Description\n",
       "0    549687  DOORMAT RED RETROSPOT,DOORMAT WELCOME SUNRISE,...\n",
       "1    550644  SET OF 6 SPICE TINS PANTRY DESIGN,PANTRY WASHI...\n",
       "2    552695  BIRTHDAY PARTY CORDON BARRIER TAPE,ICE CREAM P...\n",
       "3    553857  VINTAGE GLASS T-LIGHT HOLDER,SET/6 BEAD COASTE...\n",
       "4    557499  PARTY CHARMS 50 PIECES,PACK OF 6 LARGE FRUIT S..."
      ]
     },
     "execution_count": 110,
     "metadata": {},
     "output_type": "execute_result"
    }
   ],
   "source": [
    "import pandas as pd\n",
    "\n",
    "# Load novelty gift data\n",
    "gifts = pd.read_csv('novelty_gifts.csv')\n",
    "gifts['Description'] = gifts['Description'].str.strip()\n",
    "gifts[['InvoiceNo','Description']] = gifts[['InvoiceNo','Description']].astype('str')\n",
    "\n",
    "# Concatenate items into one row per invoice\n",
    "gifts = pd.DataFrame(gifts.groupby('InvoiceNo')['Description'].apply(','.join)).reset_index()\n",
    "\n",
    "# preview data\n",
    "gifts.head()"
   ]
  },
  {
   "cell_type": "code",
   "execution_count": 106,
   "metadata": {},
   "outputs": [],
   "source": [
    "# Split transactions strings into lists\n",
    "transactions = gifts['Description'].apply(lambda t: t.split(','))\n",
    "\n",
    "# Convert Dataframe into a list of strings\n",
    "transactions = list(transactions)"
   ]
  },
  {
   "cell_type": "code",
   "execution_count": 128,
   "metadata": {},
   "outputs": [
    {
     "data": {
      "text/html": [
       "<div>\n",
       "<style scoped>\n",
       "    .dataframe tbody tr th:only-of-type {\n",
       "        vertical-align: middle;\n",
       "    }\n",
       "\n",
       "    .dataframe tbody tr th {\n",
       "        vertical-align: top;\n",
       "    }\n",
       "\n",
       "    .dataframe thead th {\n",
       "        text-align: right;\n",
       "    }\n",
       "</style>\n",
       "<table border=\"1\" class=\"dataframe\">\n",
       "  <thead>\n",
       "    <tr style=\"text-align: right;\">\n",
       "      <th></th>\n",
       "      <th></th>\n",
       "      <th>1 HANGER</th>\n",
       "      <th>BACK DOOR</th>\n",
       "      <th>BIRTHDAY CARD</th>\n",
       "      <th>BLUE</th>\n",
       "      <th>BREAKFAST IN BED</th>\n",
       "      <th>CHOCOLATE  SPOTS</th>\n",
       "      <th>DOTCOMGIFTSHOP.COM</th>\n",
       "      <th>DOUGHNUTS</th>\n",
       "      <th>FRONT  DOOR</th>\n",
       "      <th>...</th>\n",
       "      <th>wet boxes</th>\n",
       "      <th>wet pallet</th>\n",
       "      <th>wet rusty</th>\n",
       "      <th>wet?</th>\n",
       "      <th>wrongly coded 20713</th>\n",
       "      <th>wrongly coded 23343</th>\n",
       "      <th>wrongly coded-23343</th>\n",
       "      <th>wrongly marked</th>\n",
       "      <th>wrongly marked 23343</th>\n",
       "      <th>wrongly marked carton 22804</th>\n",
       "    </tr>\n",
       "  </thead>\n",
       "  <tbody>\n",
       "    <tr>\n",
       "      <th>0</th>\n",
       "      <td>False</td>\n",
       "      <td>False</td>\n",
       "      <td>False</td>\n",
       "      <td>False</td>\n",
       "      <td>False</td>\n",
       "      <td>False</td>\n",
       "      <td>False</td>\n",
       "      <td>False</td>\n",
       "      <td>False</td>\n",
       "      <td>False</td>\n",
       "      <td>...</td>\n",
       "      <td>False</td>\n",
       "      <td>False</td>\n",
       "      <td>False</td>\n",
       "      <td>False</td>\n",
       "      <td>False</td>\n",
       "      <td>False</td>\n",
       "      <td>False</td>\n",
       "      <td>False</td>\n",
       "      <td>False</td>\n",
       "      <td>False</td>\n",
       "    </tr>\n",
       "    <tr>\n",
       "      <th>1</th>\n",
       "      <td>False</td>\n",
       "      <td>False</td>\n",
       "      <td>False</td>\n",
       "      <td>False</td>\n",
       "      <td>False</td>\n",
       "      <td>False</td>\n",
       "      <td>False</td>\n",
       "      <td>False</td>\n",
       "      <td>False</td>\n",
       "      <td>False</td>\n",
       "      <td>...</td>\n",
       "      <td>False</td>\n",
       "      <td>False</td>\n",
       "      <td>False</td>\n",
       "      <td>False</td>\n",
       "      <td>False</td>\n",
       "      <td>False</td>\n",
       "      <td>False</td>\n",
       "      <td>False</td>\n",
       "      <td>False</td>\n",
       "      <td>False</td>\n",
       "    </tr>\n",
       "    <tr>\n",
       "      <th>2</th>\n",
       "      <td>False</td>\n",
       "      <td>False</td>\n",
       "      <td>False</td>\n",
       "      <td>False</td>\n",
       "      <td>False</td>\n",
       "      <td>False</td>\n",
       "      <td>False</td>\n",
       "      <td>False</td>\n",
       "      <td>False</td>\n",
       "      <td>False</td>\n",
       "      <td>...</td>\n",
       "      <td>False</td>\n",
       "      <td>False</td>\n",
       "      <td>False</td>\n",
       "      <td>False</td>\n",
       "      <td>False</td>\n",
       "      <td>False</td>\n",
       "      <td>False</td>\n",
       "      <td>False</td>\n",
       "      <td>False</td>\n",
       "      <td>False</td>\n",
       "    </tr>\n",
       "    <tr>\n",
       "      <th>3</th>\n",
       "      <td>False</td>\n",
       "      <td>False</td>\n",
       "      <td>False</td>\n",
       "      <td>False</td>\n",
       "      <td>False</td>\n",
       "      <td>False</td>\n",
       "      <td>False</td>\n",
       "      <td>False</td>\n",
       "      <td>False</td>\n",
       "      <td>False</td>\n",
       "      <td>...</td>\n",
       "      <td>False</td>\n",
       "      <td>False</td>\n",
       "      <td>False</td>\n",
       "      <td>False</td>\n",
       "      <td>False</td>\n",
       "      <td>False</td>\n",
       "      <td>False</td>\n",
       "      <td>False</td>\n",
       "      <td>False</td>\n",
       "      <td>False</td>\n",
       "    </tr>\n",
       "    <tr>\n",
       "      <th>4</th>\n",
       "      <td>False</td>\n",
       "      <td>False</td>\n",
       "      <td>False</td>\n",
       "      <td>False</td>\n",
       "      <td>False</td>\n",
       "      <td>False</td>\n",
       "      <td>False</td>\n",
       "      <td>False</td>\n",
       "      <td>False</td>\n",
       "      <td>False</td>\n",
       "      <td>...</td>\n",
       "      <td>False</td>\n",
       "      <td>False</td>\n",
       "      <td>False</td>\n",
       "      <td>False</td>\n",
       "      <td>False</td>\n",
       "      <td>False</td>\n",
       "      <td>False</td>\n",
       "      <td>False</td>\n",
       "      <td>False</td>\n",
       "      <td>False</td>\n",
       "    </tr>\n",
       "  </tbody>\n",
       "</table>\n",
       "<p>5 rows × 3486 columns</p>\n",
       "</div>"
      ],
      "text/plain": [
       "           1 HANGER    BACK DOOR   BIRTHDAY CARD   BLUE   BREAKFAST IN BED  \\\n",
       "0  False       False       False           False  False              False   \n",
       "1  False       False       False           False  False              False   \n",
       "2  False       False       False           False  False              False   \n",
       "3  False       False       False           False  False              False   \n",
       "4  False       False       False           False  False              False   \n",
       "\n",
       "    CHOCOLATE  SPOTS   DOTCOMGIFTSHOP.COM   DOUGHNUTS   FRONT  DOOR  ...  \\\n",
       "0              False                False       False         False  ...   \n",
       "1              False                False       False         False  ...   \n",
       "2              False                False       False         False  ...   \n",
       "3              False                False       False         False  ...   \n",
       "4              False                False       False         False  ...   \n",
       "\n",
       "   wet boxes  wet pallet  wet rusty   wet?  wrongly coded 20713  \\\n",
       "0      False       False      False  False                False   \n",
       "1      False       False      False  False                False   \n",
       "2      False       False      False  False                False   \n",
       "3      False       False      False  False                False   \n",
       "4      False       False      False  False                False   \n",
       "\n",
       "   wrongly coded 23343  wrongly coded-23343  wrongly marked  \\\n",
       "0                False                False           False   \n",
       "1                False                False           False   \n",
       "2                False                False           False   \n",
       "3                False                False           False   \n",
       "4                False                False           False   \n",
       "\n",
       "   wrongly marked 23343  wrongly marked carton 22804  \n",
       "0                 False                        False  \n",
       "1                 False                        False  \n",
       "2                 False                        False  \n",
       "3                 False                        False  \n",
       "4                 False                        False  \n",
       "\n",
       "[5 rows x 3486 columns]"
      ]
     },
     "execution_count": 128,
     "metadata": {},
     "output_type": "execute_result"
    }
   ],
   "source": [
    "# Import the transaction encoder function from mlxtend\n",
    "from mlxtend.preprocessing import TransactionEncoder\n",
    "import pandas as pd\n",
    "\n",
    "# Instantiate transaction encoder and identify unique items\n",
    "encoder = TransactionEncoder().fit(transactions)\n",
    "\n",
    "# One-hot encode transactions\n",
    "onehot = encoder.transform(transactions)\n",
    "\n",
    "# Convert one-hot encoded data to DataFrame\n",
    "onehot = pd.DataFrame(onehot, columns = encoder.columns_)\n",
    "\n",
    "# Print the one-hot encoded transaction dataset\n",
    "onehot.to_csv('onehot_gifts.csv', index=False)\n",
    "onehot.head()"
   ]
  },
  {
   "cell_type": "markdown",
   "metadata": {},
   "source": [
    "### Aggregation\n",
    "- groups items together based on categories or aggregates\n",
    "- reduces the MBA to rules between categories of items, rather than individual items"
   ]
  },
  {
   "cell_type": "code",
   "execution_count": 114,
   "metadata": {},
   "outputs": [
    {
     "name": "stdout",
     "output_type": "stream",
     "text": [
      "Share of Signs: 0.44\n"
     ]
    }
   ],
   "source": [
    "# Select the column headers for sign items\n",
    "sign_headers = [i for i in onehot.columns if i.lower().find('sign')>=0]\n",
    "\n",
    "# Select columns of sign items\n",
    "sign_columns = onehot[sign_headers]\n",
    "\n",
    "# Perform aggregation of sign items into sign category\n",
    "signs = sign_columns.sum(axis = 1) >= 1.0\n",
    "\n",
    "# Print support for signs\n",
    "print('Share of Signs: %.2f' % signs.mean())"
   ]
  },
  {
   "cell_type": "code",
   "execution_count": 115,
   "metadata": {},
   "outputs": [],
   "source": [
    "def aggregate(item):\n",
    "    # Select the column headers for sign items\n",
    "    item_headers = [i for i in onehot.columns if i.lower().find(item)>=0]\n",
    "\n",
    "    # Select columns of sign items\n",
    "    item_columns = onehot[item_headers]\n",
    "    \n",
    "    # Return category of aggregated items\n",
    "    return item_columns.sum(axis = 1) >= 1.0"
   ]
  },
  {
   "cell_type": "code",
   "execution_count": 127,
   "metadata": {},
   "outputs": [
    {
     "data": {
      "text/plain": [
       "0.4417550726130394"
      ]
     },
     "execution_count": 127,
     "metadata": {},
     "output_type": "execute_result"
    }
   ],
   "source": [
    "aggregate('sign').mean()"
   ]
  },
  {
   "cell_type": "markdown",
   "metadata": {},
   "source": [
    "## The Apriori Algorithm\n",
    "- Reduces complexity by eliminating low support items\n",
    "- Reduces the number of itemsets\n",
    "\n",
    "## The Apriori Principle\n",
    "- Apriori Principle: Subsets of frequent sets are frequent\n",
    "    - Retain sets known to be frequent\n",
    "    - Prune sets not known to be frequent"
   ]
  },
  {
   "cell_type": "code",
   "execution_count": 135,
   "metadata": {
    "scrolled": true
   },
   "outputs": [],
   "source": [
    "transactions = [['milk', 'bread', 'biscuit'], ['bread', 'milk', 'biscuit', 'cereal'], ['bread', 'tea'], ['jam', 'bread', 'milk'], ['tea', 'biscuit'], ['bread', 'tea'], ['tea', 'cereal'], ['bread', 'tea', 'biscuit'], ['jam', 'bread', 'tea'], ['bread', 'milk'], ['coffee', 'orange', 'biscuit', 'cereal'], ['coffee', 'orange', 'biscuit', 'cereal'], ['coffee', 'sugar'], ['bread', 'coffee', 'orange'], ['bread', 'sugar', 'biscuit'], ['coffee', 'sugar', 'cereal'], ['bread', 'sugar', 'biscuit'], ['bread', 'coffee', 'sugar'], ['bread', 'coffee', 'sugar'], ['tea', 'milk', 'coffee', 'cereal']]\n",
    "\n",
    "# Import the transaction encoder function from mlxtend\n",
    "from mlxtend.preprocessing import TransactionEncoder\n",
    "import pandas as pd\n",
    "\n",
    "# Instantiate transaction encoder and identify unique items\n",
    "encoder = TransactionEncoder().fit(transactions)\n",
    "\n",
    "# One-hot encode transactions\n",
    "onehot = encoder.transform(transactions)\n",
    "\n",
    "# Convert one-hot encoded data to DataFrame\n",
    "onehot = pd.DataFrame(onehot, columns = encoder.columns_)"
   ]
  },
  {
   "cell_type": "code",
   "execution_count": 150,
   "metadata": {},
   "outputs": [
    {
     "data": {
      "text/html": [
       "<div>\n",
       "<style scoped>\n",
       "    .dataframe tbody tr th:only-of-type {\n",
       "        vertical-align: middle;\n",
       "    }\n",
       "\n",
       "    .dataframe tbody tr th {\n",
       "        vertical-align: top;\n",
       "    }\n",
       "\n",
       "    .dataframe thead th {\n",
       "        text-align: right;\n",
       "    }\n",
       "</style>\n",
       "<table border=\"1\" class=\"dataframe\">\n",
       "  <thead>\n",
       "    <tr style=\"text-align: right;\">\n",
       "      <th></th>\n",
       "      <th>support</th>\n",
       "      <th>itemsets</th>\n",
       "    </tr>\n",
       "  </thead>\n",
       "  <tbody>\n",
       "    <tr>\n",
       "      <th>0</th>\n",
       "      <td>0.40</td>\n",
       "      <td>(biscuit)</td>\n",
       "    </tr>\n",
       "    <tr>\n",
       "      <th>1</th>\n",
       "      <td>0.65</td>\n",
       "      <td>(bread)</td>\n",
       "    </tr>\n",
       "    <tr>\n",
       "      <th>2</th>\n",
       "      <td>0.30</td>\n",
       "      <td>(cereal)</td>\n",
       "    </tr>\n",
       "    <tr>\n",
       "      <th>3</th>\n",
       "      <td>0.40</td>\n",
       "      <td>(coffee)</td>\n",
       "    </tr>\n",
       "    <tr>\n",
       "      <th>4</th>\n",
       "      <td>0.25</td>\n",
       "      <td>(milk)</td>\n",
       "    </tr>\n",
       "    <tr>\n",
       "      <th>5</th>\n",
       "      <td>0.30</td>\n",
       "      <td>(sugar)</td>\n",
       "    </tr>\n",
       "    <tr>\n",
       "      <th>6</th>\n",
       "      <td>0.35</td>\n",
       "      <td>(tea)</td>\n",
       "    </tr>\n",
       "    <tr>\n",
       "      <th>7</th>\n",
       "      <td>0.25</td>\n",
       "      <td>(bread, biscuit)</td>\n",
       "    </tr>\n",
       "    <tr>\n",
       "      <th>8</th>\n",
       "      <td>0.20</td>\n",
       "      <td>(milk, bread)</td>\n",
       "    </tr>\n",
       "    <tr>\n",
       "      <th>9</th>\n",
       "      <td>0.20</td>\n",
       "      <td>(sugar, bread)</td>\n",
       "    </tr>\n",
       "    <tr>\n",
       "      <th>10</th>\n",
       "      <td>0.20</td>\n",
       "      <td>(tea, bread)</td>\n",
       "    </tr>\n",
       "    <tr>\n",
       "      <th>11</th>\n",
       "      <td>0.20</td>\n",
       "      <td>(cereal, coffee)</td>\n",
       "    </tr>\n",
       "    <tr>\n",
       "      <th>12</th>\n",
       "      <td>0.20</td>\n",
       "      <td>(sugar, coffee)</td>\n",
       "    </tr>\n",
       "  </tbody>\n",
       "</table>\n",
       "</div>"
      ],
      "text/plain": [
       "    support          itemsets\n",
       "0      0.40         (biscuit)\n",
       "1      0.65           (bread)\n",
       "2      0.30          (cereal)\n",
       "3      0.40          (coffee)\n",
       "4      0.25            (milk)\n",
       "5      0.30           (sugar)\n",
       "6      0.35             (tea)\n",
       "7      0.25  (bread, biscuit)\n",
       "8      0.20     (milk, bread)\n",
       "9      0.20    (sugar, bread)\n",
       "10     0.20      (tea, bread)\n",
       "11     0.20  (cereal, coffee)\n",
       "12     0.20   (sugar, coffee)"
      ]
     },
     "execution_count": 150,
     "metadata": {},
     "output_type": "execute_result"
    }
   ],
   "source": [
    "# Import Apriori Algorithm\n",
    "from mlxtend.frequent_patterns import apriori\n",
    "\n",
    "# Find frequent itemsets\n",
    "frequent = apriori(onehot, min_support=0.2,\n",
    "                   max_len=2, use_colnames=True)\n",
    "\n",
    "frequent"
   ]
  },
  {
   "cell_type": "markdown",
   "metadata": {},
   "source": [
    "## Apriori and association rules\n",
    "- Apriori prunes itemsets\n",
    "    - applies minimum support threshold\n",
    "    - modified version can prune by number of items\n",
    "    - doesn't tell us about association rules\n",
    "- Association Rules\n",
    "    - many more association rules than itemsets\n",
    "- computing rules from apriori results\n",
    "    - difficult to enumerate for high n and k\n",
    "    - could undo itemset pruning by Apriori\n",
    "- Reduce number of association rules\n",
    "    - mlxtend module offers means of pruning association rules\n",
    "    - association_rules() takes frequent items, metric, and threshold"
   ]
  },
  {
   "cell_type": "code",
   "execution_count": 159,
   "metadata": {},
   "outputs": [
    {
     "data": {
      "text/html": [
       "<div>\n",
       "<style scoped>\n",
       "    .dataframe tbody tr th:only-of-type {\n",
       "        vertical-align: middle;\n",
       "    }\n",
       "\n",
       "    .dataframe tbody tr th {\n",
       "        vertical-align: top;\n",
       "    }\n",
       "\n",
       "    .dataframe thead th {\n",
       "        text-align: right;\n",
       "    }\n",
       "</style>\n",
       "<table border=\"1\" class=\"dataframe\">\n",
       "  <thead>\n",
       "    <tr style=\"text-align: right;\">\n",
       "      <th></th>\n",
       "      <th>antecedents</th>\n",
       "      <th>consequents</th>\n",
       "      <th>antecedent support</th>\n",
       "      <th>consequent support</th>\n",
       "      <th>support</th>\n",
       "      <th>confidence</th>\n",
       "      <th>lift</th>\n",
       "      <th>leverage</th>\n",
       "      <th>conviction</th>\n",
       "    </tr>\n",
       "  </thead>\n",
       "  <tbody>\n",
       "    <tr>\n",
       "      <th>0</th>\n",
       "      <td>(milk)</td>\n",
       "      <td>(bread)</td>\n",
       "      <td>0.25</td>\n",
       "      <td>0.65</td>\n",
       "      <td>0.2</td>\n",
       "      <td>0.800000</td>\n",
       "      <td>1.230769</td>\n",
       "      <td>0.0375</td>\n",
       "      <td>1.750000</td>\n",
       "    </tr>\n",
       "    <tr>\n",
       "      <th>1</th>\n",
       "      <td>(bread)</td>\n",
       "      <td>(milk)</td>\n",
       "      <td>0.65</td>\n",
       "      <td>0.25</td>\n",
       "      <td>0.2</td>\n",
       "      <td>0.307692</td>\n",
       "      <td>1.230769</td>\n",
       "      <td>0.0375</td>\n",
       "      <td>1.083333</td>\n",
       "    </tr>\n",
       "    <tr>\n",
       "      <th>2</th>\n",
       "      <td>(sugar)</td>\n",
       "      <td>(bread)</td>\n",
       "      <td>0.30</td>\n",
       "      <td>0.65</td>\n",
       "      <td>0.2</td>\n",
       "      <td>0.666667</td>\n",
       "      <td>1.025641</td>\n",
       "      <td>0.0050</td>\n",
       "      <td>1.050000</td>\n",
       "    </tr>\n",
       "    <tr>\n",
       "      <th>3</th>\n",
       "      <td>(bread)</td>\n",
       "      <td>(sugar)</td>\n",
       "      <td>0.65</td>\n",
       "      <td>0.30</td>\n",
       "      <td>0.2</td>\n",
       "      <td>0.307692</td>\n",
       "      <td>1.025641</td>\n",
       "      <td>0.0050</td>\n",
       "      <td>1.011111</td>\n",
       "    </tr>\n",
       "    <tr>\n",
       "      <th>4</th>\n",
       "      <td>(cereal)</td>\n",
       "      <td>(coffee)</td>\n",
       "      <td>0.30</td>\n",
       "      <td>0.40</td>\n",
       "      <td>0.2</td>\n",
       "      <td>0.666667</td>\n",
       "      <td>1.666667</td>\n",
       "      <td>0.0800</td>\n",
       "      <td>1.800000</td>\n",
       "    </tr>\n",
       "    <tr>\n",
       "      <th>5</th>\n",
       "      <td>(coffee)</td>\n",
       "      <td>(cereal)</td>\n",
       "      <td>0.40</td>\n",
       "      <td>0.30</td>\n",
       "      <td>0.2</td>\n",
       "      <td>0.500000</td>\n",
       "      <td>1.666667</td>\n",
       "      <td>0.0800</td>\n",
       "      <td>1.400000</td>\n",
       "    </tr>\n",
       "    <tr>\n",
       "      <th>6</th>\n",
       "      <td>(sugar)</td>\n",
       "      <td>(coffee)</td>\n",
       "      <td>0.30</td>\n",
       "      <td>0.40</td>\n",
       "      <td>0.2</td>\n",
       "      <td>0.666667</td>\n",
       "      <td>1.666667</td>\n",
       "      <td>0.0800</td>\n",
       "      <td>1.800000</td>\n",
       "    </tr>\n",
       "    <tr>\n",
       "      <th>7</th>\n",
       "      <td>(coffee)</td>\n",
       "      <td>(sugar)</td>\n",
       "      <td>0.40</td>\n",
       "      <td>0.30</td>\n",
       "      <td>0.2</td>\n",
       "      <td>0.500000</td>\n",
       "      <td>1.666667</td>\n",
       "      <td>0.0800</td>\n",
       "      <td>1.400000</td>\n",
       "    </tr>\n",
       "  </tbody>\n",
       "</table>\n",
       "</div>"
      ],
      "text/plain": [
       "  antecedents consequents  antecedent support  consequent support  support  \\\n",
       "0      (milk)     (bread)                0.25                0.65      0.2   \n",
       "1     (bread)      (milk)                0.65                0.25      0.2   \n",
       "2     (sugar)     (bread)                0.30                0.65      0.2   \n",
       "3     (bread)     (sugar)                0.65                0.30      0.2   \n",
       "4    (cereal)    (coffee)                0.30                0.40      0.2   \n",
       "5    (coffee)    (cereal)                0.40                0.30      0.2   \n",
       "6     (sugar)    (coffee)                0.30                0.40      0.2   \n",
       "7    (coffee)     (sugar)                0.40                0.30      0.2   \n",
       "\n",
       "   confidence      lift  leverage  conviction  \n",
       "0    0.800000  1.230769    0.0375    1.750000  \n",
       "1    0.307692  1.230769    0.0375    1.083333  \n",
       "2    0.666667  1.025641    0.0050    1.050000  \n",
       "3    0.307692  1.025641    0.0050    1.011111  \n",
       "4    0.666667  1.666667    0.0800    1.800000  \n",
       "5    0.500000  1.666667    0.0800    1.400000  \n",
       "6    0.666667  1.666667    0.0800    1.800000  \n",
       "7    0.500000  1.666667    0.0800    1.400000  "
      ]
     },
     "execution_count": 159,
     "metadata": {},
     "output_type": "execute_result"
    }
   ],
   "source": [
    "# Import Apriori Algorithm and association ules\n",
    "from mlxtend.frequent_patterns import association_rules\n",
    "from mlxtend.frequent_patterns import apriori\n",
    "\n",
    "# Find frequent itemsets\n",
    "frequent = apriori(onehot, min_support=0.2,\n",
    "                   max_len=2, use_colnames=True)\n",
    "\n",
    "# Create association rules from frequent itemsets\n",
    "rules = association_rules(frequent, metric='lift', min_threshold=1)\n",
    "\n",
    "rules"
   ]
  },
  {
   "cell_type": "markdown",
   "metadata": {},
   "source": [
    "# Visualizing Rules\n",
    "## Heatmaps\n"
   ]
  },
  {
   "cell_type": "code",
   "execution_count": 161,
   "metadata": {},
   "outputs": [
    {
     "data": {
      "text/html": [
       "<div>\n",
       "<style scoped>\n",
       "    .dataframe tbody tr th:only-of-type {\n",
       "        vertical-align: middle;\n",
       "    }\n",
       "\n",
       "    .dataframe tbody tr th {\n",
       "        vertical-align: top;\n",
       "    }\n",
       "\n",
       "    .dataframe thead th {\n",
       "        text-align: right;\n",
       "    }\n",
       "</style>\n",
       "<table border=\"1\" class=\"dataframe\">\n",
       "  <thead>\n",
       "    <tr style=\"text-align: right;\">\n",
       "      <th></th>\n",
       "      <th>movieId</th>\n",
       "      <th>title</th>\n",
       "      <th>genres</th>\n",
       "    </tr>\n",
       "  </thead>\n",
       "  <tbody>\n",
       "    <tr>\n",
       "      <th>0</th>\n",
       "      <td>1</td>\n",
       "      <td>Toy Story (1995)</td>\n",
       "      <td>Adventure|Animation|Children|Comedy|Fantasy</td>\n",
       "    </tr>\n",
       "    <tr>\n",
       "      <th>1</th>\n",
       "      <td>2</td>\n",
       "      <td>Jumanji (1995)</td>\n",
       "      <td>Adventure|Children|Fantasy</td>\n",
       "    </tr>\n",
       "    <tr>\n",
       "      <th>2</th>\n",
       "      <td>3</td>\n",
       "      <td>Grumpier Old Men (1995)</td>\n",
       "      <td>Comedy|Romance</td>\n",
       "    </tr>\n",
       "    <tr>\n",
       "      <th>3</th>\n",
       "      <td>4</td>\n",
       "      <td>Waiting to Exhale (1995)</td>\n",
       "      <td>Comedy|Drama|Romance</td>\n",
       "    </tr>\n",
       "    <tr>\n",
       "      <th>4</th>\n",
       "      <td>5</td>\n",
       "      <td>Father of the Bride Part II (1995)</td>\n",
       "      <td>Comedy</td>\n",
       "    </tr>\n",
       "  </tbody>\n",
       "</table>\n",
       "</div>"
      ],
      "text/plain": [
       "   movieId                               title  \\\n",
       "0        1                    Toy Story (1995)   \n",
       "1        2                      Jumanji (1995)   \n",
       "2        3             Grumpier Old Men (1995)   \n",
       "3        4            Waiting to Exhale (1995)   \n",
       "4        5  Father of the Bride Part II (1995)   \n",
       "\n",
       "                                        genres  \n",
       "0  Adventure|Animation|Children|Comedy|Fantasy  \n",
       "1                   Adventure|Children|Fantasy  \n",
       "2                               Comedy|Romance  \n",
       "3                         Comedy|Drama|Romance  \n",
       "4                                       Comedy  "
      ]
     },
     "execution_count": 161,
     "metadata": {},
     "output_type": "execute_result"
    }
   ],
   "source": [
    "import pandas as pd\n",
    "\n",
    "# Load Ratings Data\n",
    "ratings = pd.read_csv('movielens.csv')\n",
    "ratings.head()"
   ]
  },
  {
   "cell_type": "code",
   "execution_count": null,
   "metadata": {},
   "outputs": [],
   "source": []
  }
 ],
 "metadata": {
  "kernelspec": {
   "display_name": "Python 3",
   "language": "python",
   "name": "python3"
  },
  "language_info": {
   "codemirror_mode": {
    "name": "ipython",
    "version": 3
   },
   "file_extension": ".py",
   "mimetype": "text/x-python",
   "name": "python",
   "nbconvert_exporter": "python",
   "pygments_lexer": "ipython3",
   "version": "3.8.3"
  }
 },
 "nbformat": 4,
 "nbformat_minor": 4
}
