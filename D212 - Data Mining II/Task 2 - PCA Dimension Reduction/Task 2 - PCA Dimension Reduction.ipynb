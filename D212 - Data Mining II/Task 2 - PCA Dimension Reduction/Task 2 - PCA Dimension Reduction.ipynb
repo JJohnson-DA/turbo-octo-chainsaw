{
 "cells": [
  {
   "cell_type": "markdown",
   "metadata": {},
   "source": [
    "# Dimension Reduction Using PCA from Scikit-Learn\n",
    "- Identify key featuers among customer base\n",
    "\n",
    "## Data Sources\n",
    "- churn_clean.csv: provided in WGU task prompt"
   ]
  },
  {
   "cell_type": "code",
   "execution_count": 1,
   "metadata": {},
   "outputs": [],
   "source": [
    "import sys\n",
    "print(sys.version)"
   ]
  },
  {
   "cell_type": "markdown",
   "metadata": {},
   "source": [
    "## Imports"
   ]
  },
  {
   "cell_type": "code",
   "execution_count": 2,
   "metadata": {},
   "outputs": [],
   "source": [
    "# Data handling package\n",
    "import numpy as np\n",
    "import pandas as pd\n",
    "# Used in data prepartation for kmeans\n",
    "from sklearn.preprocessing import StandardScaler\n",
    "# Used in model building\n",
    "from sklearn.decomposition import PCA\n",
    "# Used for Data Visualizations\n",
    "import matplotlib.pyplot as plt\n",
    "import seaborn as sns"
   ]
  },
  {
   "cell_type": "markdown",
   "metadata": {},
   "source": [
    "## Data Preparation"
   ]
  },
  {
   "cell_type": "code",
   "execution_count": 3,
   "metadata": {},
   "outputs": [
    {
     "name": "stdout",
     "output_type": "stream",
     "text": [
      "<class 'pandas.core.frame.DataFrame'>\n",
      "RangeIndex: 10000 entries, 0 to 9999\n",
      "Data columns (total 50 columns):\n",
      " #   Column                Non-Null Count  Dtype  \n",
      "---  ------                --------------  -----  \n",
      " 0   CaseOrder             10000 non-null  int64  \n",
      " 1   Customer_id           10000 non-null  object \n",
      " 2   Interaction           10000 non-null  object \n",
      " 3   UID                   10000 non-null  object \n",
      " 4   City                  10000 non-null  object \n",
      " 5   State                 10000 non-null  object \n",
      " 6   County                10000 non-null  object \n",
      " 7   Zip                   10000 non-null  int64  \n",
      " 8   Lat                   10000 non-null  float64\n",
      " 9   Lng                   10000 non-null  float64\n",
      " 10  Population            10000 non-null  int64  \n",
      " 11  Area                  10000 non-null  object \n",
      " 12  TimeZone              10000 non-null  object \n",
      " 13  Job                   10000 non-null  object \n",
      " 14  Children              10000 non-null  int64  \n",
      " 15  Age                   10000 non-null  int64  \n",
      " 16  Income                10000 non-null  float64\n",
      " 17  Marital               10000 non-null  object \n",
      " 18  Gender                10000 non-null  object \n",
      " 19  Churn                 10000 non-null  object \n",
      " 20  Outage_sec_perweek    10000 non-null  float64\n",
      " 21  Email                 10000 non-null  int64  \n",
      " 22  Contacts              10000 non-null  int64  \n",
      " 23  Yearly_equip_failure  10000 non-null  int64  \n",
      " 24  Techie                10000 non-null  object \n",
      " 25  Contract              10000 non-null  object \n",
      " 26  Port_modem            10000 non-null  object \n",
      " 27  Tablet                10000 non-null  object \n",
      " 28  InternetService       10000 non-null  object \n",
      " 29  Phone                 10000 non-null  object \n",
      " 30  Multiple              10000 non-null  object \n",
      " 31  OnlineSecurity        10000 non-null  object \n",
      " 32  OnlineBackup          10000 non-null  object \n",
      " 33  DeviceProtection      10000 non-null  object \n",
      " 34  TechSupport           10000 non-null  object \n",
      " 35  StreamingTV           10000 non-null  object \n",
      " 36  StreamingMovies       10000 non-null  object \n",
      " 37  PaperlessBilling      10000 non-null  object \n",
      " 38  PaymentMethod         10000 non-null  object \n",
      " 39  Tenure                10000 non-null  float64\n",
      " 40  MonthlyCharge         10000 non-null  float64\n",
      " 41  Bandwidth_GB_Year     10000 non-null  float64\n",
      " 42  Item1                 10000 non-null  int64  \n",
      " 43  Item2                 10000 non-null  int64  \n",
      " 44  Item3                 10000 non-null  int64  \n",
      " 45  Item4                 10000 non-null  int64  \n",
      " 46  Item5                 10000 non-null  int64  \n",
      " 47  Item6                 10000 non-null  int64  \n",
      " 48  Item7                 10000 non-null  int64  \n",
      " 49  Item8                 10000 non-null  int64  \n",
      "dtypes: float64(7), int64(16), object(27)\n",
      "memory usage: 3.8+ MB\n"
     ]
    }
   ],
   "source": [
    "# Import full data set\n",
    "df = pd.read_csv('churn_clean.csv')\n",
    "df.info()"
   ]
  },
  {
   "cell_type": "code",
   "execution_count": 4,
   "metadata": {
    "scrolled": true
   },
   "outputs": [
    {
     "data": {
      "text/html": [
       "<div>\n",
       "<style scoped>\n",
       "    .dataframe tbody tr th:only-of-type {\n",
       "        vertical-align: middle;\n",
       "    }\n",
       "\n",
       "    .dataframe tbody tr th {\n",
       "        vertical-align: top;\n",
       "    }\n",
       "\n",
       "    .dataframe thead th {\n",
       "        text-align: right;\n",
       "    }\n",
       "</style>\n",
       "<table border=\"1\" class=\"dataframe\">\n",
       "  <thead>\n",
       "    <tr style=\"text-align: right;\">\n",
       "      <th></th>\n",
       "      <th>Age</th>\n",
       "      <th>Income</th>\n",
       "      <th>Outage_sec_perweek</th>\n",
       "      <th>Tenure</th>\n",
       "      <th>MonthlyCharge</th>\n",
       "      <th>Bandwidth_GB_Year</th>\n",
       "    </tr>\n",
       "  </thead>\n",
       "  <tbody>\n",
       "    <tr>\n",
       "      <th>0</th>\n",
       "      <td>0.720925</td>\n",
       "      <td>-0.398778</td>\n",
       "      <td>-0.679978</td>\n",
       "      <td>-1.048746</td>\n",
       "      <td>-0.003943</td>\n",
       "      <td>-1.138487</td>\n",
       "    </tr>\n",
       "    <tr>\n",
       "      <th>1</th>\n",
       "      <td>-1.259957</td>\n",
       "      <td>-0.641954</td>\n",
       "      <td>0.570331</td>\n",
       "      <td>-1.262001</td>\n",
       "      <td>1.630326</td>\n",
       "      <td>-1.185876</td>\n",
       "    </tr>\n",
       "    <tr>\n",
       "      <th>2</th>\n",
       "      <td>-0.148730</td>\n",
       "      <td>-1.070885</td>\n",
       "      <td>0.252347</td>\n",
       "      <td>-0.709940</td>\n",
       "      <td>-0.295225</td>\n",
       "      <td>-0.612138</td>\n",
       "    </tr>\n",
       "    <tr>\n",
       "      <th>3</th>\n",
       "      <td>-0.245359</td>\n",
       "      <td>-0.740525</td>\n",
       "      <td>1.650506</td>\n",
       "      <td>-0.659524</td>\n",
       "      <td>-1.226521</td>\n",
       "      <td>-0.561857</td>\n",
       "    </tr>\n",
       "    <tr>\n",
       "      <th>4</th>\n",
       "      <td>1.445638</td>\n",
       "      <td>0.009478</td>\n",
       "      <td>-0.623156</td>\n",
       "      <td>-1.242551</td>\n",
       "      <td>-0.528086</td>\n",
       "      <td>-1.428184</td>\n",
       "    </tr>\n",
       "  </tbody>\n",
       "</table>\n",
       "</div>"
      ],
      "text/plain": [
       "        Age    Income  Outage_sec_perweek    Tenure  MonthlyCharge  \\\n",
       "0  0.720925 -0.398778           -0.679978 -1.048746      -0.003943   \n",
       "1 -1.259957 -0.641954            0.570331 -1.262001       1.630326   \n",
       "2 -0.148730 -1.070885            0.252347 -0.709940      -0.295225   \n",
       "3 -0.245359 -0.740525            1.650506 -0.659524      -1.226521   \n",
       "4  1.445638  0.009478           -0.623156 -1.242551      -0.528086   \n",
       "\n",
       "   Bandwidth_GB_Year  \n",
       "0          -1.138487  \n",
       "1          -1.185876  \n",
       "2          -0.612138  \n",
       "3          -0.561857  \n",
       "4          -1.428184  "
      ]
     },
     "execution_count": 4,
     "metadata": {},
     "output_type": "execute_result"
    }
   ],
   "source": [
    "# List Continuous Features to Keep\n",
    "keep_list =['Age', 'Income', 'Outage_sec_perweek', 'Tenure', \n",
    "            'MonthlyCharge', 'Bandwidth_GB_Year']\n",
    "\n",
    "# Create new DataFrame using desired features\n",
    "df_num = df[keep_list]\n",
    "\n",
    "# Standardize the Features\n",
    "scaler = StandardScaler()\n",
    "df_std = pd.DataFrame(scaler.fit_transform(df_num), columns=df_num.columns)\n",
    "\n",
    "# Export to csv\n",
    "df_std.to_csv('churn_prepared.csv', index=False)\n",
    "\n",
    "df_std.head()"
   ]
  },
  {
   "cell_type": "markdown",
   "metadata": {},
   "source": [
    "## Model Building"
   ]
  },
  {
   "cell_type": "code",
   "execution_count": 5,
   "metadata": {
    "scrolled": true
   },
   "outputs": [
    {
     "data": {
      "text/html": [
       "<div>\n",
       "<style scoped>\n",
       "    .dataframe tbody tr th:only-of-type {\n",
       "        vertical-align: middle;\n",
       "    }\n",
       "\n",
       "    .dataframe tbody tr th {\n",
       "        vertical-align: top;\n",
       "    }\n",
       "\n",
       "    .dataframe thead th {\n",
       "        text-align: right;\n",
       "    }\n",
       "</style>\n",
       "<table border=\"1\" class=\"dataframe\">\n",
       "  <thead>\n",
       "    <tr style=\"text-align: right;\">\n",
       "      <th></th>\n",
       "      <th>pc1</th>\n",
       "      <th>pc2</th>\n",
       "      <th>pc3</th>\n",
       "      <th>pc4</th>\n",
       "      <th>pc5</th>\n",
       "      <th>pc6</th>\n",
       "    </tr>\n",
       "  </thead>\n",
       "  <tbody>\n",
       "    <tr>\n",
       "      <th>0</th>\n",
       "      <td>-1.549624</td>\n",
       "      <td>0.183757</td>\n",
       "      <td>0.950359</td>\n",
       "      <td>-0.365419</td>\n",
       "      <td>-0.251148</td>\n",
       "      <td>-0.047707</td>\n",
       "    </tr>\n",
       "    <tr>\n",
       "      <th>1</th>\n",
       "      <td>-1.664572</td>\n",
       "      <td>-1.588061</td>\n",
       "      <td>-0.965289</td>\n",
       "      <td>0.203493</td>\n",
       "      <td>-1.308943</td>\n",
       "      <td>-0.050242</td>\n",
       "    </tr>\n",
       "    <tr>\n",
       "      <th>2</th>\n",
       "      <td>-0.949043</td>\n",
       "      <td>-0.386374</td>\n",
       "      <td>-0.197328</td>\n",
       "      <td>-1.050343</td>\n",
       "      <td>0.005160</td>\n",
       "      <td>0.079540</td>\n",
       "    </tr>\n",
       "    <tr>\n",
       "      <th>3</th>\n",
       "      <td>-0.906591</td>\n",
       "      <td>-0.569056</td>\n",
       "      <td>-1.027522</td>\n",
       "      <td>-1.066330</td>\n",
       "      <td>1.494940</td>\n",
       "      <td>0.119667</td>\n",
       "    </tr>\n",
       "    <tr>\n",
       "      <th>4</th>\n",
       "      <td>-1.909291</td>\n",
       "      <td>0.553598</td>\n",
       "      <td>1.447955</td>\n",
       "      <td>-0.210376</td>\n",
       "      <td>0.492330</td>\n",
       "      <td>-0.075630</td>\n",
       "    </tr>\n",
       "  </tbody>\n",
       "</table>\n",
       "</div>"
      ],
      "text/plain": [
       "        pc1       pc2       pc3       pc4       pc5       pc6\n",
       "0 -1.549624  0.183757  0.950359 -0.365419 -0.251148 -0.047707\n",
       "1 -1.664572 -1.588061 -0.965289  0.203493 -1.308943 -0.050242\n",
       "2 -0.949043 -0.386374 -0.197328 -1.050343  0.005160  0.079540\n",
       "3 -0.906591 -0.569056 -1.027522 -1.066330  1.494940  0.119667\n",
       "4 -1.909291  0.553598  1.447955 -0.210376  0.492330 -0.075630"
      ]
     },
     "execution_count": 5,
     "metadata": {},
     "output_type": "execute_result"
    }
   ],
   "source": [
    "# Instantiate a PCA Object\n",
    "pca = PCA()\n",
    "\n",
    "# Fit and transform the data\n",
    "df_pca = pd.DataFrame(pca.fit_transform(df_std),\n",
    "                      columns=['pc1','pc2','pc3','pc4','pc5','pc6'])\n",
    "\n",
    "df_pca.head()"
   ]
  },
  {
   "cell_type": "markdown",
   "metadata": {},
   "source": [
    "## Model Evaluation"
   ]
  },
  {
   "cell_type": "code",
   "execution_count": 6,
   "metadata": {},
   "outputs": [
    {
     "data": {
      "image/png": "[encoded data removed]",
      "text/plain": [
       "<Figure size 432x288 with 1 Axes>"
      ]
     },
     "metadata": {
      "needs_background": "light"
     },
     "output_type": "display_data"
    }
   ],
   "source": [
    "# Create empty lists to store plot values\n",
    "variance = []\n",
    "components = []\n",
    "x = 1\n",
    "\n",
    "# Fill the lists\n",
    "for i in pca.explained_variance_ratio_:\n",
    "    variance.append(i)\n",
    "    components.append(x)\n",
    "    x += 1\n",
    "\n",
    "# Plot variance to find the elbow of the lineplot\n",
    "plt.plot(components, variance, '-o')\n",
    "plt.title('Scree-Plot')\n",
    "plt.ylabel('Variance Ratio')\n",
    "plt.xlabel('Principal Component')\n",
    "plt.xticks(components)\n",
    "plt.show();"
   ]
  },
  {
   "cell_type": "code",
   "execution_count": 7,
   "metadata": {},
   "outputs": [
    {
     "data": {
      "text/html": [
       "<div>\n",
       "<style scoped>\n",
       "    .dataframe tbody tr th:only-of-type {\n",
       "        vertical-align: middle;\n",
       "    }\n",
       "\n",
       "    .dataframe tbody tr th {\n",
       "        vertical-align: top;\n",
       "    }\n",
       "\n",
       "    .dataframe thead th {\n",
       "        text-align: right;\n",
       "    }\n",
       "</style>\n",
       "<table border=\"1\" class=\"dataframe\">\n",
       "  <thead>\n",
       "    <tr style=\"text-align: right;\">\n",
       "      <th></th>\n",
       "      <th>PC</th>\n",
       "      <th>Variance_Ratio</th>\n",
       "    </tr>\n",
       "  </thead>\n",
       "  <tbody>\n",
       "    <tr>\n",
       "      <th>0</th>\n",
       "      <td>1</td>\n",
       "      <td>0.332198</td>\n",
       "    </tr>\n",
       "    <tr>\n",
       "      <th>1</th>\n",
       "      <td>2</td>\n",
       "      <td>0.170724</td>\n",
       "    </tr>\n",
       "    <tr>\n",
       "      <th>2</th>\n",
       "      <td>3</td>\n",
       "      <td>0.167734</td>\n",
       "    </tr>\n",
       "    <tr>\n",
       "      <th>3</th>\n",
       "      <td>4</td>\n",
       "      <td>0.166266</td>\n",
       "    </tr>\n",
       "    <tr>\n",
       "      <th>4</th>\n",
       "      <td>5</td>\n",
       "      <td>0.162089</td>\n",
       "    </tr>\n",
       "    <tr>\n",
       "      <th>5</th>\n",
       "      <td>6</td>\n",
       "      <td>0.000988</td>\n",
       "    </tr>\n",
       "  </tbody>\n",
       "</table>\n",
       "</div>"
      ],
      "text/plain": [
       "  PC  Variance_Ratio\n",
       "0  1        0.332198\n",
       "1  2        0.170724\n",
       "2  3        0.167734\n",
       "3  4        0.166266\n",
       "4  5        0.162089\n",
       "5  6        0.000988"
      ]
     },
     "execution_count": 7,
     "metadata": {},
     "output_type": "execute_result"
    }
   ],
   "source": [
    "# Show the variance ratio for each principal component\n",
    "pca_list = ['1','2','3','4','5','6']\n",
    "\n",
    "pc_df = pd.DataFrame(list(zip(pca_list, pca.explained_variance_ratio_)), columns=['PC', 'Variance_Ratio'])\n",
    "pc_df"
   ]
  },
  {
   "cell_type": "code",
   "execution_count": 8,
   "metadata": {},
   "outputs": [
    {
     "data": {
      "text/plain": [
       "PC                123.000000\n",
       "Variance_Ratio      0.670657\n",
       "dtype: float64"
      ]
     },
     "execution_count": 8,
     "metadata": {},
     "output_type": "execute_result"
    }
   ],
   "source": [
    "# What is the total variance captured by the first 3 components\n",
    "pc_df[:3].sum()"
   ]
  },
  {
   "cell_type": "code",
   "execution_count": null,
   "metadata": {},
   "outputs": [],
   "source": []
  }
 ],
 "metadata": {
  "kernelspec": {
   "display_name": "Python 3",
   "language": "python",
   "name": "python3"
  },
  "language_info": {
   "codemirror_mode": {
    "name": "ipython",
    "version": 3
   },
   "file_extension": ".py",
   "mimetype": "text/x-python",
   "name": "python",
   "nbconvert_exporter": "python",
   "pygments_lexer": "ipython3",
   "version": "3.8.3"
  }
 },
 "nbformat": 4,
 "nbformat_minor": 4
}
