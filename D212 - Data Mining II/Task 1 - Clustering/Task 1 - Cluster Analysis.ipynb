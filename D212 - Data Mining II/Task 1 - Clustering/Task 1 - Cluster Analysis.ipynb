{
 "cells": [
  {
   "cell_type": "markdown",
   "metadata": {},
   "source": [
    "# Cluster Analysis Using kMeans from Scikit-Learn\n",
    "- Use kmeans to classify customers as churned or not churned\n",
    "\n",
    "## Data Sources\n",
    "- churn_clean.csv: provided in WGU task prompt"
   ]
  },
  {
   "cell_type": "code",
   "execution_count": 1,
   "metadata": {},
   "outputs": [
    {
     "name": "stdout",
     "output_type": "stream",
     "text": [
      "3.8.3 (default, Jul  2 2020, 17:30:36) [MSC v.1916 64 bit (AMD64)]\n"
     ]
    }
   ],
   "source": [
    "import sys\n",
    "print(sys.version)"
   ]
  },
  {
   "cell_type": "markdown",
   "metadata": {},
   "source": [
    "## Imports"
   ]
  },
  {
   "cell_type": "code",
   "execution_count": 2,
   "metadata": {},
   "outputs": [],
   "source": [
    "# Data handling package\n",
    "import pandas as pd\n",
    "# Used in data prepartation for kmeans\n",
    "from sklearn.preprocessing import StandardScaler\n",
    "#Used to Split the data into train and test sets\n",
    "from sklearn.model_selection import train_test_split\n",
    "# Used in model building\n",
    "from sklearn.cluster import KMeans\n",
    "# Used to assess kmeans classifier\n",
    "from sklearn.metrics import accuracy_score\n",
    "from sklearn.metrics import classification_report\n",
    "# Used for Data Visualizations\n",
    "import matplotlib.pyplot as plt"
   ]
  },
  {
   "cell_type": "markdown",
   "metadata": {},
   "source": [
    "## Data Preparation"
   ]
  },
  {
   "cell_type": "code",
   "execution_count": 3,
   "metadata": {
    "scrolled": true
   },
   "outputs": [
    {
     "data": {
      "text/html": [
       "<div>\n",
       "<style scoped>\n",
       "    .dataframe tbody tr th:only-of-type {\n",
       "        vertical-align: middle;\n",
       "    }\n",
       "\n",
       "    .dataframe tbody tr th {\n",
       "        vertical-align: top;\n",
       "    }\n",
       "\n",
       "    .dataframe thead th {\n",
       "        text-align: right;\n",
       "    }\n",
       "</style>\n",
       "<table border=\"1\" class=\"dataframe\">\n",
       "  <thead>\n",
       "    <tr style=\"text-align: right;\">\n",
       "      <th></th>\n",
       "      <th>Income</th>\n",
       "      <th>Outage_sec_perweek</th>\n",
       "      <th>Tenure</th>\n",
       "      <th>MonthlyCharge</th>\n",
       "      <th>Bandwidth_GB_Year</th>\n",
       "    </tr>\n",
       "  </thead>\n",
       "  <tbody>\n",
       "    <tr>\n",
       "      <th>0</th>\n",
       "      <td>-0.398778</td>\n",
       "      <td>-0.679978</td>\n",
       "      <td>-1.048746</td>\n",
       "      <td>-0.003943</td>\n",
       "      <td>-1.138487</td>\n",
       "    </tr>\n",
       "    <tr>\n",
       "      <th>1</th>\n",
       "      <td>-0.641954</td>\n",
       "      <td>0.570331</td>\n",
       "      <td>-1.262001</td>\n",
       "      <td>1.630326</td>\n",
       "      <td>-1.185876</td>\n",
       "    </tr>\n",
       "    <tr>\n",
       "      <th>2</th>\n",
       "      <td>-1.070885</td>\n",
       "      <td>0.252347</td>\n",
       "      <td>-0.709940</td>\n",
       "      <td>-0.295225</td>\n",
       "      <td>-0.612138</td>\n",
       "    </tr>\n",
       "    <tr>\n",
       "      <th>3</th>\n",
       "      <td>-0.740525</td>\n",
       "      <td>1.650506</td>\n",
       "      <td>-0.659524</td>\n",
       "      <td>-1.226521</td>\n",
       "      <td>-0.561857</td>\n",
       "    </tr>\n",
       "    <tr>\n",
       "      <th>4</th>\n",
       "      <td>0.009478</td>\n",
       "      <td>-0.623156</td>\n",
       "      <td>-1.242551</td>\n",
       "      <td>-0.528086</td>\n",
       "      <td>-1.428184</td>\n",
       "    </tr>\n",
       "  </tbody>\n",
       "</table>\n",
       "</div>"
      ],
      "text/plain": [
       "     Income  Outage_sec_perweek    Tenure  MonthlyCharge  Bandwidth_GB_Year\n",
       "0 -0.398778           -0.679978 -1.048746      -0.003943          -1.138487\n",
       "1 -0.641954            0.570331 -1.262001       1.630326          -1.185876\n",
       "2 -1.070885            0.252347 -0.709940      -0.295225          -0.612138\n",
       "3 -0.740525            1.650506 -0.659524      -1.226521          -0.561857\n",
       "4  0.009478           -0.623156 -1.242551      -0.528086          -1.428184"
      ]
     },
     "execution_count": 3,
     "metadata": {},
     "output_type": "execute_result"
    }
   ],
   "source": [
    "# Import full data set\n",
    "df = pd.read_csv('churn_clean.csv')\n",
    "\n",
    "# Assign churn to variable y\n",
    "y = df.Churn\n",
    "y.replace('Yes', 1, inplace=True)\n",
    "y.replace('No', 0, inplace=True)\n",
    "\n",
    "# List Continuous Features to Keep\n",
    "keep_list =['Income', 'Outage_sec_perweek', 'Tenure', 'MonthlyCharge', 'Bandwidth_GB_Year']\n",
    "\n",
    "# Create new DataFrame using desired features\n",
    "df_num = df[keep_list]\n",
    "\n",
    "# Standardize the Features\n",
    "scaler = StandardScaler()\n",
    "df_std = pd.DataFrame(scaler.fit_transform(df_num), columns=df_num.columns)\n",
    "\n",
    "# Export to csv\n",
    "df_std.to_csv('churn_prepared.csv', index=False)\n",
    "\n",
    "df_std.head()"
   ]
  },
  {
   "cell_type": "markdown",
   "metadata": {},
   "source": [
    "## Model Building"
   ]
  },
  {
   "cell_type": "code",
   "execution_count": 4,
   "metadata": {},
   "outputs": [],
   "source": [
    "# Split the Data\n",
    "X_train, X_test, y_train, y_test = train_test_split(df_std, y, test_size=0.25, random_state=830)\n",
    "\n",
    "# Save datasets to CSVs\n",
    "X_train.to_csv('X_train.csv', index=False)\n",
    "X_test.to_csv('X_test.csv', index=False)\n",
    "y_train.to_csv('y_train.csv', index=False)\n",
    "y_test.to_csv('y_test.csv', index=False)"
   ]
  },
  {
   "cell_type": "code",
   "execution_count": 5,
   "metadata": {},
   "outputs": [
    {
     "data": {
      "image/png": "[encoded data removed]",
      "text/plain": [
       "<Figure size 432x288 with 1 Axes>"
      ]
     },
     "metadata": {
      "needs_background": "light"
     },
     "output_type": "display_data"
    }
   ],
   "source": [
    "# Run multiple KMeans models to find a good number of clusters\n",
    "inertia_vals = []\n",
    "clusters = []\n",
    "\n",
    "for i in range(1,11):\n",
    "    model = KMeans(n_clusters=i)\n",
    "    model.fit(X_train)\n",
    "    inertia_vals.append(model.inertia_)\n",
    "    clusters.append(i)\n",
    "    \n",
    "# Assess models to find the elbow of the lineplot\n",
    "plt.plot(clusters, inertia_vals,'-o')\n",
    "plt.ylabel('Inertia')\n",
    "plt.xlabel('Number of Clusters (k)')\n",
    "plt.xticks(clusters)\n",
    "plt.show();"
   ]
  },
  {
   "cell_type": "code",
   "execution_count": 6,
   "metadata": {},
   "outputs": [],
   "source": [
    "# Instantiate with 2 clusters based on the elbow plot above\n",
    "km = KMeans(n_clusters=2)\n",
    "\n",
    "# Fit the model to the training data\n",
    "km.fit(X_train)\n",
    "\n",
    "# Predict labels for the test data\n",
    "cluster = km.predict(X_test)"
   ]
  },
  {
   "cell_type": "markdown",
   "metadata": {},
   "source": [
    "## Model Evaluation"
   ]
  },
  {
   "cell_type": "code",
   "execution_count": 7,
   "metadata": {},
   "outputs": [
    {
     "data": {
      "text/html": [
       "<div>\n",
       "<style scoped>\n",
       "    .dataframe tbody tr th:only-of-type {\n",
       "        vertical-align: middle;\n",
       "    }\n",
       "\n",
       "    .dataframe tbody tr th {\n",
       "        vertical-align: top;\n",
       "    }\n",
       "\n",
       "    .dataframe thead th {\n",
       "        text-align: right;\n",
       "    }\n",
       "</style>\n",
       "<table border=\"1\" class=\"dataframe\">\n",
       "  <thead>\n",
       "    <tr style=\"text-align: right;\">\n",
       "      <th>cluster</th>\n",
       "      <th>0</th>\n",
       "      <th>1</th>\n",
       "    </tr>\n",
       "    <tr>\n",
       "      <th>churn</th>\n",
       "      <th></th>\n",
       "      <th></th>\n",
       "    </tr>\n",
       "  </thead>\n",
       "  <tbody>\n",
       "    <tr>\n",
       "      <th>0</th>\n",
       "      <td>671</td>\n",
       "      <td>579</td>\n",
       "    </tr>\n",
       "    <tr>\n",
       "      <th>1</th>\n",
       "      <td>1179</td>\n",
       "      <td>71</td>\n",
       "    </tr>\n",
       "  </tbody>\n",
       "</table>\n",
       "</div>"
      ],
      "text/plain": [
       "cluster     0    1\n",
       "churn             \n",
       "0         671  579\n",
       "1        1179   71"
      ]
     },
     "execution_count": 7,
     "metadata": {},
     "output_type": "execute_result"
    }
   ],
   "source": [
    "# Check model with crosstab\n",
    "ct_df = pd.DataFrame({'cluster':y_test,'churn':cluster})\n",
    "\n",
    "ct = pd.crosstab(ct_df['churn'], ct_df['cluster'])\n",
    "ct"
   ]
  },
  {
   "cell_type": "code",
   "execution_count": 8,
   "metadata": {},
   "outputs": [
    {
     "name": "stdout",
     "output_type": "stream",
     "text": [
      "kMeans Classification Accuracy: 0.30\n"
     ]
    }
   ],
   "source": [
    "# Check the model accuracy\n",
    "print('kMeans Classification Accuracy: %.2f'%accuracy_score(y_test, cluster))"
   ]
  },
  {
   "cell_type": "code",
   "execution_count": 9,
   "metadata": {},
   "outputs": [
    {
     "name": "stdout",
     "output_type": "stream",
     "text": [
      "kMeans Predicted Churn Rate: 0.50\n",
      "Actual Churn Rate: 0.26\n"
     ]
    }
   ],
   "source": [
    "print('kMeans Predicted Churn Rate: %.2f'%cluster.mean())\n",
    "print('Actual Churn Rate: %.2f'%y_test.mean())"
   ]
  },
  {
   "cell_type": "code",
   "execution_count": 10,
   "metadata": {},
   "outputs": [
    {
     "name": "stdout",
     "output_type": "stream",
     "text": [
      "Logistic Regression Accuracy: 0.84\n"
     ]
    }
   ],
   "source": [
    "from sklearn.linear_model import LogisticRegression\n",
    "\n",
    "# Instantiate and fit the model\n",
    "lr = LogisticRegression()\n",
    "lr.fit(X_train, y_train)\n",
    "\n",
    "# Predict labels of test data\n",
    "y_pred = lr.predict(X_test)\n",
    "\n",
    "# Compute accuracy of model\n",
    "print('Logistic Regression Accuracy: %.2f'%accuracy_score(y_test, y_pred))"
   ]
  },
  {
   "cell_type": "code",
   "execution_count": null,
   "metadata": {},
   "outputs": [],
   "source": []
  }
 ],
 "metadata": {
  "kernelspec": {
   "display_name": "Python 3",
   "language": "python",
   "name": "python3"
  },
  "language_info": {
   "codemirror_mode": {
    "name": "ipython",
    "version": 3
   },
   "file_extension": ".py",
   "mimetype": "text/x-python",
   "name": "python",
   "nbconvert_exporter": "python",
   "pygments_lexer": "ipython3",
   "version": "3.8.3"
  }
 },
 "nbformat": 4,
 "nbformat_minor": 4
}
