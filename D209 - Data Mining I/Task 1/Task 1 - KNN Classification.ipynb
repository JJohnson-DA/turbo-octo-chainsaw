{
 "cells": [
  {
   "cell_type": "code",
   "execution_count": 1,
   "metadata": {},
   "outputs": [
    {
     "name": "stdout",
     "output_type": "stream",
     "text": [
      "3.8.3\n"
     ]
    }
   ],
   "source": [
    "# Python Version\n",
    "from platform import python_version\n",
    "print(python_version())"
   ]
  },
  {
   "cell_type": "markdown",
   "metadata": {},
   "source": [
    "# Import and prepocessing of data"
   ]
  },
  {
   "cell_type": "code",
   "execution_count": 2,
   "metadata": {},
   "outputs": [],
   "source": [
    "# Import necessary packages\n",
    "import numpy as np\n",
    "import pandas as pd\n",
    "\n",
    "# Import Visualization Tools\n",
    "import matplotlib.pyplot as plt\n",
    "plt.style.use('ggplot')\n",
    "%matplotlib inline"
   ]
  },
  {
   "cell_type": "code",
   "execution_count": 3,
   "metadata": {},
   "outputs": [],
   "source": [
    "# Import Dataset\n",
    "df = pd.read_csv('churn_clean.csv')\n",
    "\n",
    "# Drop unwanted variables/columns\n",
    "drop_list =['CaseOrder', 'Customer_id', 'Interaction', 'UID', 'City', 'State',\n",
    "            'County', 'Zip', 'Lat', 'Lng', 'Population', 'Area', 'TimeZone',\n",
    "            'Job','Children', 'Age', 'Income', 'Marital', 'Gender','Item1', \n",
    "            'Item2', 'Item3', 'Item4', 'Item5', 'Item6', 'Item7', 'Item8']\n",
    "\n",
    "# Drop columns and save variables to list\n",
    "df = df.drop(columns=drop_list)\n",
    "used_variables = df.columns\n",
    "\n",
    "# Convert \"yes\" and \"no\" to 1 and 0 respectively\n",
    "df = df.replace(to_replace='Yes', value=1)\n",
    "df = df.replace(to_replace='No',value=0)\n",
    "\n",
    "# List and convert Categorical variables to dummy variables\n",
    "to_dummy_list = ['Contract','InternetService', 'PaymentMethod']\n",
    "df = pd.get_dummies(data=df, columns=to_dummy_list, drop_first=True)\n",
    "\n",
    "# Save a copy of the prepared Dataset\n",
    "df.to_csv('prepared_churn.csv', index=False)"
   ]
  },
  {
   "cell_type": "markdown",
   "metadata": {},
   "source": [
    "# k-Nearest Neighbor Classification"
   ]
  },
  {
   "cell_type": "code",
   "execution_count": 4,
   "metadata": {},
   "outputs": [
    {
     "name": "stdout",
     "output_type": "stream",
     "text": [
      "              precision    recall  f1-score   support\n",
      "\n",
      "           0       0.89      0.91      0.90      1494\n",
      "           1       0.72      0.68      0.70       506\n",
      "\n",
      "    accuracy                           0.85      2000\n",
      "   macro avg       0.80      0.79      0.80      2000\n",
      "weighted avg       0.85      0.85      0.85      2000\n",
      "\n",
      "kNN model classification accuracy: 0.851\n"
     ]
    }
   ],
   "source": [
    "# Import necessary modules for classification\n",
    "from sklearn.neighbors import KNeighborsClassifier\n",
    "from sklearn.model_selection import train_test_split\n",
    "from sklearn.preprocessing import StandardScaler\n",
    "from sklearn.metrics import classification_report\n",
    "\n",
    "# Assign target and response datasets\n",
    "X = pd.DataFrame(StandardScaler().fit_transform(df.drop('Churn', axis=1)))\n",
    "y = df['Churn']\n",
    "\n",
    "# Set a Seed variable for analysis replication ability\n",
    "SEED = 830\n",
    "\n",
    "# Split the data into training and testing sets\n",
    "X_train, X_test, y_train, y_test = train_test_split(X, y, test_size=0.2, random_state=SEED)\n",
    "\n",
    "# Save datasets to CSVs for task prompt D2\n",
    "X_train.to_csv('X_train.csv', index=False)\n",
    "X_test.to_csv('X_test.csv', index=False)\n",
    "y_train.to_csv('y_train.csv', index=False)\n",
    "y_test.to_csv('y_test.csv', index=False)\n",
    "\n",
    "# Instantiate the classifier\n",
    "knn = KNeighborsClassifier(n_jobs=-1)\n",
    "\n",
    "# Fit the classifier model\n",
    "knn.fit(X_train, y_train)\n",
    "\n",
    "# Calculate the predicted values for y\n",
    "y_pred = knn.predict(X_test)\n",
    "print(classification_report(y_test, y_pred))\n",
    "\n",
    "# Evaluate the accuracy of the model and print\n",
    "acc = knn.score(X_test, y_test)\n",
    "print('kNN model classification accuracy: {:.3f}'.format(acc))"
   ]
  },
  {
   "cell_type": "markdown",
   "metadata": {},
   "source": [
    "## Tuning the models Hyperparameters"
   ]
  },
  {
   "cell_type": "markdown",
   "metadata": {},
   "source": [
    "### Graph accuracy measure for different values of k"
   ]
  },
  {
   "cell_type": "code",
   "execution_count": 5,
   "metadata": {},
   "outputs": [],
   "source": [
    "# The idea for this code was taken from the online \n",
    "#     learning resource videos on DataCamp\n",
    "\n",
    "# Setup arrays to store train and test accuracies\n",
    "neighbors = np.arange(20, 80, 5)\n",
    "train_acc = np.empty(len(neighbors))\n",
    "test_acc = np.empty(len(neighbors))\n",
    "\n",
    "# Loop over different values of k\n",
    "for i, k in enumerate(neighbors):\n",
    "    # Instantiate a kNN model with k-neighbors\n",
    "    knn = KNeighborsClassifier(n_neighbors=k, n_jobs=-1)\n",
    "\n",
    "    # Fit the model to training data\n",
    "    knn.fit(X=X_train, y=y_train)\n",
    "    \n",
    "    # Evaluate and store the training set accuracy\n",
    "    train_acc[i] = knn.score(X_train, y_train)\n",
    "\n",
    "    # Evaluate and store the testing set accuracy\n",
    "    test_acc[i] = knn.score(X_test, y_test)"
   ]
  },
  {
   "cell_type": "code",
   "execution_count": 6,
   "metadata": {
    "scrolled": true
   },
   "outputs": [
    {
     "data": {
      "image/png": "[encoded data removed]",
      "text/plain": [
       "<Figure size 432x288 with 1 Axes>"
      ]
     },
     "metadata": {
      "needs_background": "light"
     },
     "output_type": "display_data"
    }
   ],
   "source": [
    "# Generate plot\n",
    "plt.title('k-NN: Varying Number of Neighbors')\n",
    "plt.plot(neighbors, test_acc, label = 'Testing Accuracy')\n",
    "plt.plot(neighbors, train_acc, label = 'Training Accuracy')\n",
    "plt.legend()\n",
    "plt.xlabel('Number of Neighbors')\n",
    "plt.ylabel('Accuracy')\n",
    "plt.show()"
   ]
  },
  {
   "cell_type": "markdown",
   "metadata": {},
   "source": [
    "### Gridsearch to find optimal number of neighbors"
   ]
  },
  {
   "cell_type": "code",
   "execution_count": 7,
   "metadata": {},
   "outputs": [
    {
     "name": "stdout",
     "output_type": "stream",
     "text": [
      "{'n_neighbors': 53}\n"
     ]
    }
   ],
   "source": [
    "from sklearn.model_selection import GridSearchCV\n",
    "\n",
    "# Assign range of values to test for number of neighbors\n",
    "n_neighbors= list(np.arange(50,61))\n",
    "\n",
    "# Create the grid to use in the GridSearch\n",
    "param_grid = {'n_neighbors':n_neighbors}\n",
    "\n",
    "# Create the estimator to use\n",
    "knn = KNeighborsClassifier(n_jobs=-1)\n",
    "\n",
    "# Instantiate the GridSearch model\n",
    "knn_cv = GridSearchCV(knn, param_grid, cv=5)\n",
    "\n",
    "# Fit the model to the data\n",
    "knn_cv.fit(X,y)\n",
    "\n",
    "# Print the optimal number of neighbors to use\n",
    "print(knn_cv.best_params_)"
   ]
  },
  {
   "cell_type": "markdown",
   "metadata": {},
   "source": [
    "## Testing a new model using 53 neighbors"
   ]
  },
  {
   "cell_type": "code",
   "execution_count": 8,
   "metadata": {},
   "outputs": [
    {
     "name": "stdout",
     "output_type": "stream",
     "text": [
      "              precision    recall  f1-score   support\n",
      "\n",
      "           0       0.88      0.96      0.92      1494\n",
      "           1       0.84      0.60      0.70       506\n",
      "\n",
      "    accuracy                           0.87      2000\n",
      "   macro avg       0.86      0.78      0.81      2000\n",
      "weighted avg       0.87      0.87      0.86      2000\n",
      "\n",
      "kNN model classification accuracy: 0.869\n"
     ]
    }
   ],
   "source": [
    "# Instantiate the classifier\n",
    "knn_2 = KNeighborsClassifier(n_neighbors=53,n_jobs=-1)\n",
    "\n",
    "# Fit the classifier model\n",
    "knn_2.fit(X_train, y_train)\n",
    "\n",
    "# Calculate the predicted values for y\n",
    "y_pred = knn_2.predict(X_test)\n",
    "print(classification_report(y_test, y_pred))\n",
    "\n",
    "# Evaluate the accuracy of the model and print\n",
    "acc = knn_2.score(X_test, y_test)\n",
    "print('kNN model classification accuracy: {:.3f}'.format(acc))"
   ]
  },
  {
   "cell_type": "markdown",
   "metadata": {},
   "source": [
    "### Evaluating ROC Curve and AUC Score"
   ]
  },
  {
   "cell_type": "code",
   "execution_count": 9,
   "metadata": {},
   "outputs": [
    {
     "data": {
      "image/png": "[encoded data removed]",
      "text/plain": [
       "<Figure size 432x288 with 1 Axes>"
      ]
     },
     "metadata": {
      "needs_background": "light"
     },
     "output_type": "display_data"
    },
    {
     "name": "stdout",
     "output_type": "stream",
     "text": [
      "AUC Score of kNN Classifier = 0.780\n"
     ]
    }
   ],
   "source": [
    "from sklearn.metrics import roc_curve\n",
    "from sklearn.metrics import roc_auc_score\n",
    "\n",
    "pred_prob = knn_2.predict_proba(X_test)\n",
    "fpr, tpr, thresh = roc_curve(y_test, pred_prob[:,1], pos_label=1)\n",
    "\n",
    "random_probs = [0 for i in range(len(y_test))]\n",
    "p_fpr, p_tpr, _ = roc_curve(y_test, random_probs, pos_label=1)\n",
    "\n",
    "# plot roc curves\n",
    "plt.plot(fpr, tpr, linestyle='--',color='orange', label='kNN Classifier')\n",
    "plt.plot(p_fpr, p_tpr, linestyle='--', color='blue')\n",
    "# title\n",
    "plt.title('ROC curve for Final kNN Classifier')\n",
    "# x label\n",
    "plt.xlabel('False Positive Rate')\n",
    "# y label\n",
    "plt.ylabel('True Positive rate')\n",
    "\n",
    "plt.legend()\n",
    "plt.show();\n",
    "\n",
    "\n",
    "auc = roc_auc_score(y_test, y_pred)\n",
    "print('AUC Score of kNN Classifier = {:.3f}'.format(auc))"
   ]
  },
  {
   "cell_type": "code",
   "execution_count": null,
   "metadata": {},
   "outputs": [],
   "source": []
  }
 ],
 "metadata": {
  "kernelspec": {
   "display_name": "Python 3",
   "language": "python",
   "name": "python3"
  },
  "language_info": {
   "codemirror_mode": {
    "name": "ipython",
    "version": 3
   },
   "file_extension": ".py",
   "mimetype": "text/x-python",
   "name": "python",
   "nbconvert_exporter": "python",
   "pygments_lexer": "ipython3",
   "version": "3.8.3"
  }
 },
 "nbformat": 4,
 "nbformat_minor": 4
}
