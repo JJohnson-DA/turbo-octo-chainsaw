{
 "cells": [
  {
   "cell_type": "markdown",
   "metadata": {},
   "source": [
    "# Binary Classification of Text using an LSTM Neural Network\n",
    "- Develop a recurrent neural network that is capable of accurately classifying a news article as real or fake news.\n",
    "\n",
    "## Data Sources\n",
    "- True.csv: dataset of real/true news articles downloaded from Kaggle (https://www.kaggle.com/clmentbisaillon/fake-and-real-news-dataset/download)\n",
    "- Fake.csv: dataset of fake/false news articles downloaded from Kaggle (https://www.kaggle.com/clmentbisaillon/fake-and-real-news-dataset/download)"
   ]
  },
  {
   "cell_type": "markdown",
   "metadata": {},
   "source": [
    "## Imports"
   ]
  },
  {
   "cell_type": "code",
   "execution_count": 1,
   "metadata": {},
   "outputs": [],
   "source": [
    "# Basic Packages and Set Seed\n",
    "import time\n",
    "import pandas as pd\n",
    "import numpy as np \n",
    "np.random.seed(830)\n",
    "SEED = 830\n",
    "\n",
    "# Data Preparation\n",
    "import nltk\n",
    "from nltk.tokenize import word_tokenize\n",
    "from nltk.corpus import stopwords\n",
    "from nltk.stem import WordNetLemmatizer\n",
    "\n",
    "# Model building\n",
    "import sklearn\n",
    "from sklearn.model_selection import train_test_split\n",
    "import tensorflow as tf \n",
    "from tensorflow import keras\n",
    "from keras.models import Sequential\n",
    "from keras.layers import Dense, Embedding, LSTM, Dropout\n",
    "from keras.callbacks import EarlyStopping\n",
    "from keras.preprocessing.text import Tokenizer\n",
    "from keras.preprocessing.sequence import pad_sequences\n",
    "\n",
    "# Visualizations\n",
    "import matplotlib\n",
    "import matplotlib.pyplot as plt"
   ]
  },
  {
   "cell_type": "code",
   "execution_count": 2,
   "metadata": {},
   "outputs": [],
   "source": [
    "start = time.time()"
   ]
  },
  {
   "cell_type": "markdown",
   "metadata": {},
   "source": [
    "### Package versions for reproducibility "
   ]
  },
  {
   "cell_type": "code",
   "execution_count": 3,
   "metadata": {},
   "outputs": [
    {
     "name": "stdout",
     "output_type": "stream",
     "text": [
      "Package Versions:\n",
      "\n",
      "TensorFlow: 2.3.0\n",
      "Keras: 2.4.0\n",
      "Numpy: 1.19.1\n",
      "Pandas: 1.2.4\n",
      "NLTK: 3.6.1\n",
      "Scikit-Learn: 0.24.1\n",
      "Matplotlib: 3.3.4\n"
     ]
    }
   ],
   "source": [
    "print('Package Versions:\\n')\n",
    "print('TensorFlow:',tf.__version__)\n",
    "print('Keras:',keras.__version__)\n",
    "print('Numpy:',np.__version__)\n",
    "print('Pandas:',pd.__version__)\n",
    "print('NLTK:',nltk.__version__)\n",
    "print('Scikit-Learn:',sklearn.__version__)\n",
    "print('Matplotlib:',matplotlib.__version__)"
   ]
  },
  {
   "cell_type": "markdown",
   "metadata": {},
   "source": [
    "## Data Preparation\n",
    "### Load Data"
   ]
  },
  {
   "cell_type": "code",
   "execution_count": 2,
   "metadata": {},
   "outputs": [
    {
     "data": {
      "text/html": [
       "<div>\n",
       "<style scoped>\n",
       "    .dataframe tbody tr th:only-of-type {\n",
       "        vertical-align: middle;\n",
       "    }\n",
       "\n",
       "    .dataframe tbody tr th {\n",
       "        vertical-align: top;\n",
       "    }\n",
       "\n",
       "    .dataframe thead th {\n",
       "        text-align: right;\n",
       "    }\n",
       "</style>\n",
       "<table border=\"1\" class=\"dataframe\">\n",
       "  <thead>\n",
       "    <tr style=\"text-align: right;\">\n",
       "      <th></th>\n",
       "      <th>text</th>\n",
       "      <th>label</th>\n",
       "    </tr>\n",
       "  </thead>\n",
       "  <tbody>\n",
       "    <tr>\n",
       "      <th>0</th>\n",
       "      <td>Earlier today, it was reported by TMZ that an ...</td>\n",
       "      <td>1</td>\n",
       "    </tr>\n",
       "    <tr>\n",
       "      <th>1</th>\n",
       "      <td>(Reuters) - Goldman Sachs Group Inc (GS.N) Chi...</td>\n",
       "      <td>0</td>\n",
       "    </tr>\n",
       "    <tr>\n",
       "      <th>2</th>\n",
       "      <td>A journalist and author, Daniel Hannan has bee...</td>\n",
       "      <td>1</td>\n",
       "    </tr>\n",
       "    <tr>\n",
       "      <th>3</th>\n",
       "      <td>UNITED NATIONS (Reuters) - The next round of t...</td>\n",
       "      <td>0</td>\n",
       "    </tr>\n",
       "    <tr>\n",
       "      <th>4</th>\n",
       "      <td>WASHINGTON (Reuters) - The White House said in...</td>\n",
       "      <td>0</td>\n",
       "    </tr>\n",
       "  </tbody>\n",
       "</table>\n",
       "</div>"
      ],
      "text/plain": [
       "                                                text  label\n",
       "0  Earlier today, it was reported by TMZ that an ...      1\n",
       "1  (Reuters) - Goldman Sachs Group Inc (GS.N) Chi...      0\n",
       "2  A journalist and author, Daniel Hannan has bee...      1\n",
       "3  UNITED NATIONS (Reuters) - The next round of t...      0\n",
       "4  WASHINGTON (Reuters) - The White House said in...      0"
      ]
     },
     "execution_count": 2,
     "metadata": {},
     "output_type": "execute_result"
    }
   ],
   "source": [
    "# Load Data with only title column\n",
    "df_real = pd.read_csv('True.csv', encoding='UTF-8').drop(['title', 'subject', 'date'], axis=1)\n",
    "df_fake = pd.read_csv('Fake.csv', encoding='UTF-8').drop(['title', 'subject', 'date'], axis=1)\n",
    "\n",
    "# Add label column to each to identify title real (0) or fake (1) article\n",
    "df_real['label'] = 0\n",
    "df_fake['label'] = 1\n",
    "\n",
    "# Concatenate DataFrames\n",
    "df = pd.concat([df_real, df_fake])\n",
    "\n",
    "# Shuffle the dataframe\n",
    "df = df.sample(frac=1).reset_index().drop('index', axis=1)\n",
    "\n",
    "# Inspect dataframe\n",
    "df.head()"
   ]
  },
  {
   "cell_type": "code",
   "execution_count": null,
   "metadata": {},
   "outputs": [],
   "source": []
  },
  {
   "cell_type": "markdown",
   "metadata": {},
   "source": [
    "### Prepare the Data"
   ]
  },
  {
   "cell_type": "code",
   "execution_count": 5,
   "metadata": {},
   "outputs": [],
   "source": [
    "# Assign stopwords to a list\n",
    "stop_words = stopwords.words('English')\n",
    "# Assign a lemmatizer\n",
    "lemmatizer = WordNetLemmatizer().lemmatize"
   ]
  },
  {
   "cell_type": "code",
   "execution_count": 6,
   "metadata": {},
   "outputs": [],
   "source": [
    "# Create a list to store cleaned text\n",
    "texts = list()\n",
    "\n",
    "# Loop through articles to clean the text\n",
    "for i in range(0,len(df)):\n",
    "    sentence = df.text[i]\n",
    "    # Tokenize in lowercase\n",
    "    lower_tokens = [t for t in word_tokenize(sentence.lower())]\n",
    "    # Remove Stopwords and lemmatize\n",
    "    lemmed = [lemmatizer(l) for l in lower_tokens if not l in stop_words]\n",
    "    # Retain only alphabetic words, remove punctuation tokens\n",
    "    alpha_lemmed = [lm for lm in lemmed if lm.isalpha()]\n",
    "    # Join back into one token\n",
    "    text_lem = ' '.join(alpha_lemmed)\n",
    "    # Append to list\n",
    "    texts.append(text_lem)\n",
    "\n",
    "# Create new dataframe from cleaned article texts\n",
    "df_text = pd.DataFrame({'text':texts, 'label':df.label})\n",
    "\n",
    "# Save cleaned data\n",
    "df_text.to_csv('cleaned_texts.csv', index=False)"
   ]
  },
  {
   "cell_type": "markdown",
   "metadata": {},
   "source": [
    "### Explore Vocab size and article length"
   ]
  },
  {
   "cell_type": "code",
   "execution_count": 7,
   "metadata": {
    "tags": []
   },
   "outputs": [
    {
     "name": "stdout",
     "output_type": "stream",
     "text": [
      "Vocab Size: 92340\n"
     ]
    }
   ],
   "source": [
    "# Create lists to store words and sentences\n",
    "vocab = list()\n",
    "sentences = list()\n",
    "\n",
    "# Loop through titles to create vocab\n",
    "for sentence in df_text.text.values:\n",
    "    # Tokenize in lowercase\n",
    "    tokens = [t for t in word_tokenize(sentence.lower())]\n",
    "    # append to list of sentences\n",
    "    sentences.append(tokens)\n",
    "    # add words from sentence to vocab list\n",
    "    for a in tokens:\n",
    "        vocab.append(a)\n",
    "        \n",
    "# create set of unique values from vocab\n",
    "vocab = list(set(vocab))\n",
    "\n",
    "print('Vocab Size: %s'%len(vocab))"
   ]
  },
  {
   "cell_type": "code",
   "execution_count": 8,
   "metadata": {},
   "outputs": [],
   "source": [
    "# Create list to store number of words in each sentence\n",
    "sent_length = list()\n",
    "\n",
    "# Loop through sentences and append length in words to sent_length\n",
    "for s in sentences:\n",
    "    sent_length.append(len(s))\n",
    "    \n",
    "# Convert to dataframe\n",
    "sent_length = pd.DataFrame(sent_length)"
   ]
  },
  {
   "cell_type": "code",
   "execution_count": 9,
   "metadata": {},
   "outputs": [
    {
     "data": {
      "text/plain": [
       "<AxesSubplot:>"
      ]
     },
     "execution_count": 9,
     "metadata": {},
     "output_type": "execute_result"
    },
    {
     "data": {
      "image/png": "[encoded data removed]",
      "text/plain": [
       "<Figure size 432x288 with 1 Axes>"
      ]
     },
     "metadata": {
      "needs_background": "light"
     },
     "output_type": "display_data"
    }
   ],
   "source": [
    "sent_length.boxplot()"
   ]
  },
  {
   "cell_type": "code",
   "execution_count": 10,
   "metadata": {},
   "outputs": [
    {
     "data": {
      "text/html": [
       "<div>\n",
       "<style scoped>\n",
       "    .dataframe tbody tr th:only-of-type {\n",
       "        vertical-align: middle;\n",
       "    }\n",
       "\n",
       "    .dataframe tbody tr th {\n",
       "        vertical-align: top;\n",
       "    }\n",
       "\n",
       "    .dataframe thead th {\n",
       "        text-align: right;\n",
       "    }\n",
       "</style>\n",
       "<table border=\"1\" class=\"dataframe\">\n",
       "  <thead>\n",
       "    <tr style=\"text-align: right;\">\n",
       "      <th></th>\n",
       "      <th>0</th>\n",
       "    </tr>\n",
       "  </thead>\n",
       "  <tbody>\n",
       "    <tr>\n",
       "      <th>count</th>\n",
       "      <td>44898.000000</td>\n",
       "    </tr>\n",
       "    <tr>\n",
       "      <th>mean</th>\n",
       "      <td>219.820660</td>\n",
       "    </tr>\n",
       "    <tr>\n",
       "      <th>std</th>\n",
       "      <td>191.016342</td>\n",
       "    </tr>\n",
       "    <tr>\n",
       "      <th>min</th>\n",
       "      <td>0.000000</td>\n",
       "    </tr>\n",
       "    <tr>\n",
       "      <th>25%</th>\n",
       "      <td>111.000000</td>\n",
       "    </tr>\n",
       "    <tr>\n",
       "      <th>50%</th>\n",
       "      <td>193.000000</td>\n",
       "    </tr>\n",
       "    <tr>\n",
       "      <th>75%</th>\n",
       "      <td>275.000000</td>\n",
       "    </tr>\n",
       "    <tr>\n",
       "      <th>max</th>\n",
       "      <td>4606.000000</td>\n",
       "    </tr>\n",
       "  </tbody>\n",
       "</table>\n",
       "</div>"
      ],
      "text/plain": [
       "                  0\n",
       "count  44898.000000\n",
       "mean     219.820660\n",
       "std      191.016342\n",
       "min        0.000000\n",
       "25%      111.000000\n",
       "50%      193.000000\n",
       "75%      275.000000\n",
       "max     4606.000000"
      ]
     },
     "execution_count": 10,
     "metadata": {},
     "output_type": "execute_result"
    }
   ],
   "source": [
    "sent_length.describe()"
   ]
  },
  {
   "cell_type": "code",
   "execution_count": 11,
   "metadata": {
    "tags": []
   },
   "outputs": [
    {
     "data": {
      "image/png": "[encoded data removed]",
      "text/plain": [
       "<Figure size 720x360 with 1 Axes>"
      ]
     },
     "metadata": {
      "needs_background": "light"
     },
     "output_type": "display_data"
    }
   ],
   "source": [
    "# plot histogram of sentence lengths\n",
    "plt.figure(figsize=(10, 5))\n",
    "plt.hist(sent_length[sent_length<1000], color='grey')\n",
    "plt.axvline(x=275, color='b', linestyle='dashed', \n",
    "            linewidth=2, label='Max Length Cutoff')\n",
    "plt.title('Distribution of Article Lengths')\n",
    "plt.xlabel('Number of Words in Article')\n",
    "plt.ylabel('Count of Articles')\n",
    "plt.legend()\n",
    "plt.show()"
   ]
  },
  {
   "cell_type": "markdown",
   "metadata": {},
   "source": [
    "## Initial Model Building"
   ]
  },
  {
   "cell_type": "code",
   "execution_count": 12,
   "metadata": {},
   "outputs": [],
   "source": [
    "# Separate data into predictor and response\n",
    "X = df_text.text\n",
    "y = df_text.label\n",
    "\n",
    "# Create train and test set\n",
    "X_train, X_test, y_train, y_test = train_test_split(X, y, test_size=0.2, random_state=SEED)\n",
    "\n",
    "# Instantiate a Tokenizer\n",
    "vocab_size = 10000\n",
    "max_len = 275\n",
    "tokenizer = Tokenizer(num_words=vocab_size)\n",
    "\n",
    "# Fit tokenizer on training data\n",
    "tokenizer.fit_on_texts(X_train.values)\n",
    "\n",
    "# Create padded sequence of train and test data using tokenizer\n",
    "X_train_padded = pad_sequences(tokenizer.texts_to_sequences(X_train), maxlen=max_len)\n",
    "X_test_padded = pad_sequences(tokenizer.texts_to_sequences(X_test), maxlen=max_len)"
   ]
  },
  {
   "cell_type": "code",
   "execution_count": 13,
   "metadata": {},
   "outputs": [],
   "source": [
    "# Instantiate the Neural Network Model\n",
    "model = Sequential()\n",
    "\n",
    "# Add layers to model\n",
    "model.add(Embedding(input_dim=vocab_size, output_dim=64, trainable=True, \n",
    "                    input_length=max_len, name='Embedding')) \n",
    "model.add(LSTM(32, dropout=0.2, recurrent_dropout=0.2, name='LSTM'))\n",
    "model.add(Dense(8, activation='relu', name='Dense'))\n",
    "model.add(Dense(1, activation='sigmoid', name='Output'))\n",
    "\n",
    "# Compile the Model\n",
    "model.compile(optimizer='adam', loss='binary_crossentropy', metrics=['accuracy'])"
   ]
  },
  {
   "cell_type": "code",
   "execution_count": 14,
   "metadata": {},
   "outputs": [
    {
     "name": "stdout",
     "output_type": "stream",
     "text": [
      "Model: \"sequential\"\n",
      "_________________________________________________________________\n",
      "Layer (type)                 Output Shape              Param #   \n",
      "=================================================================\n",
      "Embedding (Embedding)        (None, 275, 64)           640000    \n",
      "_________________________________________________________________\n",
      "LSTM (LSTM)                  (None, 32)                12416     \n",
      "_________________________________________________________________\n",
      "Dense (Dense)                (None, 8)                 264       \n",
      "_________________________________________________________________\n",
      "Output (Dense)               (None, 1)                 9         \n",
      "=================================================================\n",
      "Total params: 652,689\n",
      "Trainable params: 652,689\n",
      "Non-trainable params: 0\n",
      "_________________________________________________________________\n"
     ]
    }
   ],
   "source": [
    "# Display the model Architecture\n",
    "model.summary()"
   ]
  },
  {
   "cell_type": "code",
   "execution_count": 15,
   "metadata": {},
   "outputs": [
    {
     "name": "stdout",
     "output_type": "stream",
     "text": [
      "Epoch 1/20\n",
      "51/51 [==============================] - 73s 1s/step - loss: 0.5156 - accuracy: 0.8539 - val_loss: 0.2872 - val_accuracy: 0.9008\n",
      "Epoch 2/20\n",
      "51/51 [==============================] - 88s 2s/step - loss: 0.1736 - accuracy: 0.9476 - val_loss: 0.1319 - val_accuracy: 0.9591\n",
      "Epoch 3/20\n",
      "51/51 [==============================] - 94s 2s/step - loss: 0.0816 - accuracy: 0.9757 - val_loss: 0.0908 - val_accuracy: 0.9720\n",
      "Epoch 4/20\n",
      "51/51 [==============================] - 96s 2s/step - loss: 0.0469 - accuracy: 0.9877 - val_loss: 0.0756 - val_accuracy: 0.9770\n",
      "Epoch 5/20\n",
      "51/51 [==============================] - 98s 2s/step - loss: 0.0336 - accuracy: 0.9916 - val_loss: 0.0704 - val_accuracy: 0.9797\n",
      "Epoch 6/20\n",
      "51/51 [==============================] - 101s 2s/step - loss: 0.0222 - accuracy: 0.9949 - val_loss: 0.0608 - val_accuracy: 0.9835\n",
      "Epoch 7/20\n",
      "51/51 [==============================] - 99s 2s/step - loss: 0.0254 - accuracy: 0.9935 - val_loss: 0.0668 - val_accuracy: 0.9801\n",
      "Epoch 8/20\n",
      "51/51 [==============================] - 101s 2s/step - loss: 0.0135 - accuracy: 0.9970 - val_loss: 0.0609 - val_accuracy: 0.9836\n",
      "WARNING:tensorflow:From C:\\Users\\16084\\anaconda3\\envs\\Keras\\lib\\site-packages\\tensorflow\\python\\training\\tracking\\tracking.py:111: Model.state_updates (from tensorflow.python.keras.engine.training) is deprecated and will be removed in a future version.\n",
      "Instructions for updating:\n",
      "This property should not be used in TensorFlow 2.0, as updates are applied automatically.\n",
      "WARNING:tensorflow:From C:\\Users\\16084\\anaconda3\\envs\\Keras\\lib\\site-packages\\tensorflow\\python\\training\\tracking\\tracking.py:111: Layer.updates (from tensorflow.python.keras.engine.base_layer) is deprecated and will be removed in a future version.\n",
      "Instructions for updating:\n",
      "This property should not be used in TensorFlow 2.0, as updates are applied automatically.\n",
      "INFO:tensorflow:Assets written to: LSTM_model\\assets\n"
     ]
    }
   ],
   "source": [
    "# Define early_stopping_monitor\n",
    "early_stopping_monitor = EarlyStopping(patience=2)\n",
    "\n",
    "# Fit the model on the training data, using 15% of it as validation. \n",
    "history = model.fit(X_train_padded, y_train, validation_split=0.3, \n",
    "                    epochs=20, batch_size=500,\n",
    "                    callbacks=[early_stopping_monitor])\n",
    "# Save the model for future use\n",
    "model.save('LSTM_model')"
   ]
  },
  {
   "cell_type": "markdown",
   "metadata": {},
   "source": [
    "### Assess overfitting of model"
   ]
  },
  {
   "cell_type": "code",
   "execution_count": 16,
   "metadata": {},
   "outputs": [
    {
     "data": {
      "image/png": "[encoded data removed]",
      "text/plain": [
       "<Figure size 432x288 with 1 Axes>"
      ]
     },
     "metadata": {
      "needs_background": "light"
     },
     "output_type": "display_data"
    }
   ],
   "source": [
    "# Plot accuracy for training and Validation during model fitting\n",
    "plt.plot(history.history['accuracy'])\n",
    "plt.plot(history.history['val_accuracy'])\n",
    "plt.title('Model Training Accuracy')\n",
    "plt.ylabel('Accuracy')\n",
    "plt.xlabel('Epoch')\n",
    "plt.legend(['Train', 'Validation'])\n",
    "plt.show()"
   ]
  },
  {
   "cell_type": "code",
   "execution_count": 17,
   "metadata": {},
   "outputs": [
    {
     "data": {
      "image/png": "[encoded data removed]",
      "text/plain": [
       "<Figure size 432x288 with 1 Axes>"
      ]
     },
     "metadata": {
      "needs_background": "light"
     },
     "output_type": "display_data"
    }
   ],
   "source": [
    "# Plot Loss for training and Validation during model fitting\n",
    "plt.plot(history.history['loss'])\n",
    "plt.plot(history.history['val_loss'])\n",
    "plt.title('Model Training Loss')\n",
    "plt.ylabel('Loss')\n",
    "plt.xlabel('Epoch')\n",
    "plt.legend(['Train', 'Validation'])\n",
    "plt.show()"
   ]
  },
  {
   "cell_type": "markdown",
   "metadata": {},
   "source": [
    "## Model Evaluation"
   ]
  },
  {
   "cell_type": "code",
   "execution_count": 18,
   "metadata": {},
   "outputs": [],
   "source": [
    "# Load the saved model from above\n",
    "model = keras.models.load_model('LSTM_model')"
   ]
  },
  {
   "cell_type": "code",
   "execution_count": 19,
   "metadata": {},
   "outputs": [
    {
     "name": "stdout",
     "output_type": "stream",
     "text": [
      "281/281 [==============================] - 7s 23ms/step - loss: 0.0577 - accuracy: 0.9841\n",
      "\n",
      "Model Accuracy on Test Data: 98.4%\n"
     ]
    }
   ],
   "source": [
    "# Evaluate on test data\n",
    "accuracy = (model.evaluate(X_test_padded, y_test)[1])*100\n",
    "print('\\nModel Accuracy on Test Data: {}%'.format(round(accuracy, 1)))"
   ]
  },
  {
   "cell_type": "code",
   "execution_count": 36,
   "metadata": {},
   "outputs": [
    {
     "name": "stdout",
     "output_type": "stream",
     "text": [
      "              precision    recall  f1-score   support\n",
      "\n",
      "           0       0.98      0.98      0.98      4282\n",
      "           1       0.98      0.99      0.98      4698\n",
      "\n",
      "    accuracy                           0.98      8980\n",
      "   macro avg       0.98      0.98      0.98      8980\n",
      "weighted avg       0.98      0.98      0.98      8980\n",
      "\n"
     ]
    }
   ],
   "source": [
    "# Calculate predictions and assign 1 or 0\n",
    "pred = list()\n",
    "for value in model.predict(X_test_padded):\n",
    "    if value > 0.5: pred.append(1)\n",
    "    else: pred.append(0)\n",
    "\n",
    "# Show classification report for test data\n",
    "print(sklearn.metrics.classification_report(y_test, pred))"
   ]
  },
  {
   "cell_type": "code",
   "execution_count": 20,
   "metadata": {},
   "outputs": [
    {
     "name": "stdout",
     "output_type": "stream",
     "text": [
      "Notebook Runtime (minutes): 16.947394784291586\n"
     ]
    }
   ],
   "source": [
    "end = time.time()\n",
    "runtime = end - start\n",
    "print('Notebook Runtime (minutes): {}'.format(runtime/60))"
   ]
  },
  {
   "cell_type": "code",
   "execution_count": null,
   "metadata": {},
   "outputs": [],
   "source": []
  }
 ],
 "metadata": {
  "kernelspec": {
   "display_name": "Python 3",
   "language": "python",
   "name": "python3"
  },
  "language_info": {
   "codemirror_mode": {
    "name": "ipython",
    "version": 3
   },
   "file_extension": ".py",
   "mimetype": "text/x-python",
   "name": "python",
   "nbconvert_exporter": "python",
   "pygments_lexer": "ipython3",
   "version": "3.8.8"
  }
 },
 "nbformat": 4,
 "nbformat_minor": 4
}
